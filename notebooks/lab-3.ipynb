{
 "cells": [
  {
   "cell_type": "markdown",
   "id": "075d6ef3",
   "metadata": {},
   "source": [
    "# Exercise: Create a Python Package for Cloud-Free Mosaics"
   ]
  },
  {
   "cell_type": "markdown",
   "id": "fc0e5549",
   "metadata": {},
   "source": [
    "In this exercise, your goal is to:\n",
    "\n",
    "1. Create a function that generates a cloud-free mosaic using Sentinel-2 data and Google Earth Engine.\n",
    "2. Turn this function into a reusable Python package.\n",
    "3. Organize your code using proper Python package structure.\n",
    "4. Install your package locally in editable mode.\n",
    "5. Test your package using a script or notebook."
   ]
  },
  {
   "cell_type": "markdown",
   "id": "126bb9a5",
   "metadata": {},
   "source": [
    "## Step 1: Write the Function\n",
    "Create a function called `create_cloud_free_mosaic(aoi, start_date, end_date)` that:\n",
    "- Filters Sentinel-2 imagery by date and area,\n",
    "- Applies a cloud mask using the `QA60` band,\n",
    "- Returns a cloud-free median composite."
   ]
  },
  {
   "cell_type": "markdown",
   "id": "2091c202",
   "metadata": {},
   "source": [
    "## Step 2: Create the Package Structure\n",
    "Use the following folder layout:\n",
    "\n",
    "```\n",
    "geoapps/\n",
    "├── geoapps/\n",
    "│   ├── __init__.py\n",
    "│   └── lab03/\n",
    "│       ├── __init__.py\n",
    "│       └── cloud_mosaic.py  # <- your function goes here\n",
    "├── pyproject.toml\n",
    "└── README.md\n",
    "```"
   ]
  },
  {
   "cell_type": "markdown",
   "id": "3858d1a2",
   "metadata": {},
   "source": [
    "## Step 3: Create `pyproject.toml`\n",
    "Use the following template:\n",
    "\n",
    "```toml\n",
    "[build-system]\n",
    "requires = [\"setuptools\", \"wheel\"]\n",
    "build-backend = \"setuptools.build_meta\"\n",
    "\n",
    "[project]\n",
    "name = \"geoapps\"\n",
    "version = \"0.1.0\"\n",
    "requires-python = \">=3.10\"\n",
    "description = \"EO utilities for cloud-free mosaics\"\n",
    "authors = [\n",
    "  { name = \"Your Name\", email = \"your@email.com\" }\n",
    "]\n",
    "\n",
    "[tool.setuptools.packages.find]\n",
    "where = [\".\"]\n",
    "exclude = [\"tests\", \"notebooks\"]\n",
    "```"
   ]
  },
  {
   "cell_type": "markdown",
   "id": "ef8d1e89",
   "metadata": {},
   "source": [
    "## Step 4: Install Your Package\n",
    "From the root of your project (where `pyproject.toml` is located), run:\n",
    "\n",
    "```bash\n",
    "pip install -e .\n",
    "```"
   ]
  },
  {
   "cell_type": "markdown",
   "id": "ba67b5ce",
   "metadata": {},
   "source": [
    "## Step 5: Test the Package\n",
    "Create a test script or notebook and try importing your function like this:\n",
    "\n",
    "```python\n",
    "from geoapps.lab03.cloud_mosaic import create_cloud_free_mosaic\n",
    "\n",
    "import ee\n",
    "ee.Initialize(project='your-ee-project-id')\n",
    "\n",
    "aoi = ee.Geometry.Rectangle([19.8, 50.0, 20.0, 50.2])\n",
    "mosaic = create_cloud_free_mosaic(aoi, '2023-06-01', '2023-07-01')\n",
    "print(mosaic.getInfo())\n",
    "```"
   ]
  },
  {
   "cell_type": "markdown",
   "id": "2c18c732",
   "metadata": {},
   "source": [
    "## Step 6: Bonus – Add a Demo Notebook\n",
    "Create a notebook in a separate `notebooks/` folder where you import and visualize the result using `geemap`:\n",
    "\n",
    "```python\n",
    "import geemap\n",
    "Map = geemap.Map(center=[50.1, 19.9], zoom=10)\n",
    "Map.addLayer(mosaic, {'bands': ['B4', 'B3', 'B2'], 'min': 0, 'max': 3000}, 'Mosaic')\n",
    "Map\n",
    "```"
   ]
  }
 ],
 "metadata": {},
 "nbformat": 4,
 "nbformat_minor": 5
}
