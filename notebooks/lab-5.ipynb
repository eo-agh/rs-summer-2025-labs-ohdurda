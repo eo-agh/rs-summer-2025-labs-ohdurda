{
 "cells": [
  {
   "cell_type": "markdown",
   "id": "0f11c463",
   "metadata": {},
   "source": [
    "# Lab 5: Land Surface Temperature using CORINE-based Emissivity"
   ]
  },
  {
   "cell_type": "markdown",
   "id": "290155fd",
   "metadata": {},
   "source": [
    "## 🎯 Objectives\n",
    "In this exercise, you will:\n",
    "- Select a cloud-free Landsat 8 images from 2013 and 2023 (or different if you're sure that you'll spot a difference in land cover)\n",
    "- Calculate Brightness Temperature (TB) from Band 10.\n",
    "- Load CORINE Land Cover data and assign emissivity values to each land cover class.\n",
    "- Use the Planck-based formula to calculate Land Surface Temperature (LST).\n",
    "- Visualize and interpret the results."
   ]
  },
  {
   "cell_type": "markdown",
   "id": "16d50ca3",
   "metadata": {},
   "source": [
    "## Step 1: Define Area of Interest (AOI)\n",
    "- Use coordinates around Reduta street in Kraków.\n",
    "- Create a polygon or rectangle using `ee.Geometry.Polygon`."
   ]
  },
  {
   "cell_type": "code",
   "execution_count": 1,
   "id": "9a13c0ee",
   "metadata": {},
   "outputs": [
    {
     "name": "stdout",
     "output_type": "stream",
     "text": [
      "{'type': 'Polygon', 'coordinates': [[[-3.70239, 40.04233], [-3.52386, 40.04233], [-3.52386, 40.80757], [-3.70239, 40.80757], [-3.70239, 40.04233]]]}\n"
     ]
    }
   ],
   "source": [
    "# Define AOI here\n",
    "\n",
    "import ee\n",
    "\n",
    "ee.Authenticate()\n",
    "ee.Initialize(project='ee-martynadurda')\n",
    "\n",
    "aoi = ee.Geometry.Rectangle([-3.70239, 40.80757, -3.52386, 40.04233])  # cords of madrid bb\n",
    "\n",
    "print(aoi.getInfo())"
   ]
  },
  {
   "cell_type": "markdown",
   "id": "116de1cc",
   "metadata": {},
   "source": [
    "## Step 2: Load Landsat 8 imagery for the dates you've picked\n",
    "- Filter for low cloud cover (< 20%)\n",
    "- Select Band 10 and convert to TB using: `TB = ST_B10 * 0.00341802 + 149.0`"
   ]
  },
  {
   "cell_type": "code",
   "execution_count": 2,
   "id": "bdb32790",
   "metadata": {},
   "outputs": [
    {
     "name": "stdout",
     "output_type": "stream",
     "text": [
      "{'type': 'Image', 'bands': [{'id': 'SR_B1', 'data_type': {'type': 'PixelType', 'precision': 'int', 'min': 0, 'max': 65535}, 'dimensions': [526, 2836], 'origin': [4169, 2182], 'crs': 'EPSG:32630', 'crs_transform': [30, 0, 314985, 0, -30, 4583115]}, {'id': 'SR_B2', 'data_type': {'type': 'PixelType', 'precision': 'int', 'min': 0, 'max': 65535}, 'dimensions': [526, 2836], 'origin': [4169, 2182], 'crs': 'EPSG:32630', 'crs_transform': [30, 0, 314985, 0, -30, 4583115]}, {'id': 'SR_B3', 'data_type': {'type': 'PixelType', 'precision': 'int', 'min': 0, 'max': 65535}, 'dimensions': [526, 2836], 'origin': [4169, 2182], 'crs': 'EPSG:32630', 'crs_transform': [30, 0, 314985, 0, -30, 4583115]}, {'id': 'SR_B4', 'data_type': {'type': 'PixelType', 'precision': 'int', 'min': 0, 'max': 65535}, 'dimensions': [526, 2836], 'origin': [4169, 2182], 'crs': 'EPSG:32630', 'crs_transform': [30, 0, 314985, 0, -30, 4583115]}, {'id': 'SR_B5', 'data_type': {'type': 'PixelType', 'precision': 'int', 'min': 0, 'max': 65535}, 'dimensions': [526, 2836], 'origin': [4169, 2182], 'crs': 'EPSG:32630', 'crs_transform': [30, 0, 314985, 0, -30, 4583115]}, {'id': 'SR_B6', 'data_type': {'type': 'PixelType', 'precision': 'int', 'min': 0, 'max': 65535}, 'dimensions': [526, 2836], 'origin': [4169, 2182], 'crs': 'EPSG:32630', 'crs_transform': [30, 0, 314985, 0, -30, 4583115]}, {'id': 'SR_B7', 'data_type': {'type': 'PixelType', 'precision': 'int', 'min': 0, 'max': 65535}, 'dimensions': [526, 2836], 'origin': [4169, 2182], 'crs': 'EPSG:32630', 'crs_transform': [30, 0, 314985, 0, -30, 4583115]}, {'id': 'SR_QA_AEROSOL', 'data_type': {'type': 'PixelType', 'precision': 'int', 'min': 0, 'max': 255}, 'dimensions': [526, 2836], 'origin': [4169, 2182], 'crs': 'EPSG:32630', 'crs_transform': [30, 0, 314985, 0, -30, 4583115]}, {'id': 'ST_B10', 'data_type': {'type': 'PixelType', 'precision': 'int', 'min': 0, 'max': 65535}, 'dimensions': [526, 2836], 'origin': [4169, 2182], 'crs': 'EPSG:32630', 'crs_transform': [30, 0, 314985, 0, -30, 4583115]}, {'id': 'ST_ATRAN', 'data_type': {'type': 'PixelType', 'precision': 'int', 'min': -32768, 'max': 32767}, 'dimensions': [526, 2836], 'origin': [4169, 2182], 'crs': 'EPSG:32630', 'crs_transform': [30, 0, 314985, 0, -30, 4583115]}, {'id': 'ST_CDIST', 'data_type': {'type': 'PixelType', 'precision': 'int', 'min': -32768, 'max': 32767}, 'dimensions': [526, 2836], 'origin': [4169, 2182], 'crs': 'EPSG:32630', 'crs_transform': [30, 0, 314985, 0, -30, 4583115]}, {'id': 'ST_DRAD', 'data_type': {'type': 'PixelType', 'precision': 'int', 'min': -32768, 'max': 32767}, 'dimensions': [526, 2836], 'origin': [4169, 2182], 'crs': 'EPSG:32630', 'crs_transform': [30, 0, 314985, 0, -30, 4583115]}, {'id': 'ST_EMIS', 'data_type': {'type': 'PixelType', 'precision': 'int', 'min': -32768, 'max': 32767}, 'dimensions': [526, 2836], 'origin': [4169, 2182], 'crs': 'EPSG:32630', 'crs_transform': [30, 0, 314985, 0, -30, 4583115]}, {'id': 'ST_EMSD', 'data_type': {'type': 'PixelType', 'precision': 'int', 'min': -32768, 'max': 32767}, 'dimensions': [526, 2836], 'origin': [4169, 2182], 'crs': 'EPSG:32630', 'crs_transform': [30, 0, 314985, 0, -30, 4583115]}, {'id': 'ST_QA', 'data_type': {'type': 'PixelType', 'precision': 'int', 'min': -32768, 'max': 32767}, 'dimensions': [526, 2836], 'origin': [4169, 2182], 'crs': 'EPSG:32630', 'crs_transform': [30, 0, 314985, 0, -30, 4583115]}, {'id': 'ST_TRAD', 'data_type': {'type': 'PixelType', 'precision': 'int', 'min': -32768, 'max': 32767}, 'dimensions': [526, 2836], 'origin': [4169, 2182], 'crs': 'EPSG:32630', 'crs_transform': [30, 0, 314985, 0, -30, 4583115]}, {'id': 'ST_URAD', 'data_type': {'type': 'PixelType', 'precision': 'int', 'min': -32768, 'max': 32767}, 'dimensions': [526, 2836], 'origin': [4169, 2182], 'crs': 'EPSG:32630', 'crs_transform': [30, 0, 314985, 0, -30, 4583115]}, {'id': 'QA_PIXEL', 'data_type': {'type': 'PixelType', 'precision': 'int', 'min': 0, 'max': 65535}, 'dimensions': [526, 2836], 'origin': [4169, 2182], 'crs': 'EPSG:32630', 'crs_transform': [30, 0, 314985, 0, -30, 4583115]}, {'id': 'QA_RADSAT', 'data_type': {'type': 'PixelType', 'precision': 'int', 'min': 0, 'max': 65535}, 'dimensions': [526, 2836], 'origin': [4169, 2182], 'crs': 'EPSG:32630', 'crs_transform': [30, 0, 314985, 0, -30, 4583115]}], 'version': 1629853187583495, 'id': 'LANDSAT/LC08/C02/T1_L2/LC08_201032_20130802', 'properties': {'system:footprint': {'type': 'Polygon', 'coordinates': [[[-3.7023900000000003, 40.04233], [-3.52386, 40.04233], [-3.52386, 40.80756999999999], [-3.7023899999999994, 40.80757], [-3.7023900000000003, 40.04233]]]}, 'DATA_SOURCE_ELEVATION': 'GLS2000', 'WRS_TYPE': 2, 'REFLECTANCE_ADD_BAND_1': -0.2, 'REFLECTANCE_ADD_BAND_2': -0.2, 'DATUM': 'WGS84', 'REFLECTANCE_ADD_BAND_3': -0.2, 'REFLECTANCE_ADD_BAND_4': -0.2, 'REFLECTANCE_ADD_BAND_5': -0.2, 'REFLECTANCE_ADD_BAND_6': -0.2, 'REFLECTANCE_ADD_BAND_7': -0.2, 'REFLECTIVE_SAMPLES': 7781, 'GROUND_CONTROL_POINTS_VERSION': 5, 'SUN_AZIMUTH': 135.31840024, 'DATA_SOURCE_TIRS_STRAY_LIGHT_CORRECTION': 'TIRS', 'UTM_ZONE': 30, 'DATE_ACQUIRED': '2013-08-02', 'ELLIPSOID': 'WGS84', 'system:time_end': 1375441055150, 'DATA_SOURCE_PRESSURE': 'Calculated', 'LANDSAT_PRODUCT_ID': 'LC08_L2SP_201032_20130802_20200912_02_T1', 'STATION_ID': 'LGN', 'TEMPERATURE_ADD_BAND_ST_B10': 149, 'DATA_SOURCE_REANALYSIS': 'GEOS-5 FP-IT', 'REFLECTANCE_MULT_BAND_7': 2.75e-05, 'system:time_start': 1375441055150, 'REFLECTANCE_MULT_BAND_6': 2.75e-05, 'L1_PROCESSING_LEVEL': 'L1TP', 'PROCESSING_SOFTWARE_VERSION': 'LPGS_15.3.1c', 'L1_DATE_PRODUCT_GENERATED': '2020-09-12T17:38:50Z', 'ORIENTATION': 'NORTH_UP', 'REFLECTANCE_MULT_BAND_1': 2.75e-05, 'WRS_ROW': 32, 'REFLECTANCE_MULT_BAND_3': 2.75e-05, 'REFLECTANCE_MULT_BAND_2': 2.75e-05, 'TARGET_WRS_ROW': 32, 'REFLECTANCE_MULT_BAND_5': 2.75e-05, 'REFLECTANCE_MULT_BAND_4': 2.75e-05, 'THERMAL_LINES': 7911, 'TIRS_SSM_POSITION_STATUS': 'NOMINAL', 'GRID_CELL_SIZE_THERMAL': 30, 'IMAGE_QUALITY_TIRS': 9, 'TRUNCATION_OLI': 'UPPER', 'NADIR_OFFNADIR': 'NADIR', 'CLOUD_COVER': 0.22, 'REQUEST_ID': 'L2', 'EARTH_SUN_DISTANCE': 1.0148007, 'GEOMETRIC_RMSE_VERIFY': 2.348, 'TIRS_SSM_MODEL': 'ACTUAL', 'COLLECTION_CATEGORY': 'T1', 'SCENE_CENTER_TIME': '10:57:35.1508810Z', 'GRID_CELL_SIZE_REFLECTIVE': 30, 'SUN_ELEVATION': 60.9957328, 'ALGORITHM_SOURCE_SURFACE_TEMPERATURE': 'st_1.3.0', 'TEMPERATURE_MAXIMUM_BAND_ST_B10': 372.999941, 'CLOUD_COVER_LAND': 0.22, 'GEOMETRIC_RMSE_MODEL': 4.841, 'ROLL_ANGLE': -0.001, 'COLLECTION_NUMBER': 2, 'DATE_PRODUCT_GENERATED': 1599933004000, 'L1_REQUEST_ID': 'L2', 'DATA_SOURCE_OZONE': 'MODIS', 'SATURATION_BAND_1': 'N', 'DATA_SOURCE_WATER_VAPOR': 'MODIS', 'SATURATION_BAND_2': 'Y', 'SATURATION_BAND_3': 'Y', 'IMAGE_QUALITY_OLI': 9, 'SATURATION_BAND_4': 'Y', 'LANDSAT_SCENE_ID': 'LC82010322013214LGN01', 'SATURATION_BAND_5': 'Y', 'MAP_PROJECTION': 'UTM', 'SATURATION_BAND_6': 'Y', 'SENSOR_ID': 'OLI_TIRS', 'SATURATION_BAND_7': 'Y', 'SATURATION_BAND_8': 'N', 'WRS_PATH': 201, 'SATURATION_BAND_9': 'N', 'TARGET_WRS_PATH': 201, 'L1_PROCESSING_SOFTWARE_VERSION': 'LPGS_15.3.1c', 'TEMPERATURE_MULT_BAND_ST_B10': 0.00341802, 'L1_LANDSAT_PRODUCT_ID': 'LC08_L1TP_201032_20130802_20200912_02_T1', 'PROCESSING_LEVEL': 'L2SP', 'ALGORITHM_SOURCE_SURFACE_REFLECTANCE': 'LaSRC_1.5.0', 'GROUND_CONTROL_POINTS_MODEL': 876, 'SPACECRAFT_ID': 'LANDSAT_8', 'TEMPERATURE_MINIMUM_BAND_ST_B10': 149.003418, 'GEOMETRIC_RMSE_MODEL_Y': 3.28, 'REFLECTIVE_LINES': 7911, 'GEOMETRIC_RMSE_MODEL_X': 3.561, 'THERMAL_SAMPLES': 7781, 'system:asset_size': 987888476, 'DATA_SOURCE_AIR_TEMPERATURE': 'MODIS', 'GROUND_CONTROL_POINTS_VERIFY': 143, 'system:index': 'LC08_201032_20130802'}}\n",
      "{'type': 'Image', 'bands': [{'id': 'SR_B1', 'data_type': {'type': 'PixelType', 'precision': 'int', 'min': 0, 'max': 65535}, 'dimensions': [526, 2836], 'origin': [4199, 2182], 'crs': 'EPSG:32630', 'crs_transform': [30, 0, 314085, 0, -30, 4583115]}, {'id': 'SR_B2', 'data_type': {'type': 'PixelType', 'precision': 'int', 'min': 0, 'max': 65535}, 'dimensions': [526, 2836], 'origin': [4199, 2182], 'crs': 'EPSG:32630', 'crs_transform': [30, 0, 314085, 0, -30, 4583115]}, {'id': 'SR_B3', 'data_type': {'type': 'PixelType', 'precision': 'int', 'min': 0, 'max': 65535}, 'dimensions': [526, 2836], 'origin': [4199, 2182], 'crs': 'EPSG:32630', 'crs_transform': [30, 0, 314085, 0, -30, 4583115]}, {'id': 'SR_B4', 'data_type': {'type': 'PixelType', 'precision': 'int', 'min': 0, 'max': 65535}, 'dimensions': [526, 2836], 'origin': [4199, 2182], 'crs': 'EPSG:32630', 'crs_transform': [30, 0, 314085, 0, -30, 4583115]}, {'id': 'SR_B5', 'data_type': {'type': 'PixelType', 'precision': 'int', 'min': 0, 'max': 65535}, 'dimensions': [526, 2836], 'origin': [4199, 2182], 'crs': 'EPSG:32630', 'crs_transform': [30, 0, 314085, 0, -30, 4583115]}, {'id': 'SR_B6', 'data_type': {'type': 'PixelType', 'precision': 'int', 'min': 0, 'max': 65535}, 'dimensions': [526, 2836], 'origin': [4199, 2182], 'crs': 'EPSG:32630', 'crs_transform': [30, 0, 314085, 0, -30, 4583115]}, {'id': 'SR_B7', 'data_type': {'type': 'PixelType', 'precision': 'int', 'min': 0, 'max': 65535}, 'dimensions': [526, 2836], 'origin': [4199, 2182], 'crs': 'EPSG:32630', 'crs_transform': [30, 0, 314085, 0, -30, 4583115]}, {'id': 'SR_QA_AEROSOL', 'data_type': {'type': 'PixelType', 'precision': 'int', 'min': 0, 'max': 255}, 'dimensions': [526, 2836], 'origin': [4199, 2182], 'crs': 'EPSG:32630', 'crs_transform': [30, 0, 314085, 0, -30, 4583115]}, {'id': 'ST_B10', 'data_type': {'type': 'PixelType', 'precision': 'int', 'min': 0, 'max': 65535}, 'dimensions': [526, 2836], 'origin': [4199, 2182], 'crs': 'EPSG:32630', 'crs_transform': [30, 0, 314085, 0, -30, 4583115]}, {'id': 'ST_ATRAN', 'data_type': {'type': 'PixelType', 'precision': 'int', 'min': -32768, 'max': 32767}, 'dimensions': [526, 2836], 'origin': [4199, 2182], 'crs': 'EPSG:32630', 'crs_transform': [30, 0, 314085, 0, -30, 4583115]}, {'id': 'ST_CDIST', 'data_type': {'type': 'PixelType', 'precision': 'int', 'min': -32768, 'max': 32767}, 'dimensions': [526, 2836], 'origin': [4199, 2182], 'crs': 'EPSG:32630', 'crs_transform': [30, 0, 314085, 0, -30, 4583115]}, {'id': 'ST_DRAD', 'data_type': {'type': 'PixelType', 'precision': 'int', 'min': -32768, 'max': 32767}, 'dimensions': [526, 2836], 'origin': [4199, 2182], 'crs': 'EPSG:32630', 'crs_transform': [30, 0, 314085, 0, -30, 4583115]}, {'id': 'ST_EMIS', 'data_type': {'type': 'PixelType', 'precision': 'int', 'min': -32768, 'max': 32767}, 'dimensions': [526, 2836], 'origin': [4199, 2182], 'crs': 'EPSG:32630', 'crs_transform': [30, 0, 314085, 0, -30, 4583115]}, {'id': 'ST_EMSD', 'data_type': {'type': 'PixelType', 'precision': 'int', 'min': -32768, 'max': 32767}, 'dimensions': [526, 2836], 'origin': [4199, 2182], 'crs': 'EPSG:32630', 'crs_transform': [30, 0, 314085, 0, -30, 4583115]}, {'id': 'ST_QA', 'data_type': {'type': 'PixelType', 'precision': 'int', 'min': -32768, 'max': 32767}, 'dimensions': [526, 2836], 'origin': [4199, 2182], 'crs': 'EPSG:32630', 'crs_transform': [30, 0, 314085, 0, -30, 4583115]}, {'id': 'ST_TRAD', 'data_type': {'type': 'PixelType', 'precision': 'int', 'min': -32768, 'max': 32767}, 'dimensions': [526, 2836], 'origin': [4199, 2182], 'crs': 'EPSG:32630', 'crs_transform': [30, 0, 314085, 0, -30, 4583115]}, {'id': 'ST_URAD', 'data_type': {'type': 'PixelType', 'precision': 'int', 'min': -32768, 'max': 32767}, 'dimensions': [526, 2836], 'origin': [4199, 2182], 'crs': 'EPSG:32630', 'crs_transform': [30, 0, 314085, 0, -30, 4583115]}, {'id': 'QA_PIXEL', 'data_type': {'type': 'PixelType', 'precision': 'int', 'min': 0, 'max': 65535}, 'dimensions': [526, 2836], 'origin': [4199, 2182], 'crs': 'EPSG:32630', 'crs_transform': [30, 0, 314085, 0, -30, 4583115]}, {'id': 'QA_RADSAT', 'data_type': {'type': 'PixelType', 'precision': 'int', 'min': 0, 'max': 65535}, 'dimensions': [526, 2836], 'origin': [4199, 2182], 'crs': 'EPSG:32630', 'crs_transform': [30, 0, 314085, 0, -30, 4583115]}], 'version': 1742928116536959, 'id': 'LANDSAT/LC09/C02/T1_L2/LC09_201032_20230806', 'properties': {'system:footprint': {'type': 'Polygon', 'coordinates': [[[-3.7023900000000003, 40.04233], [-3.52386, 40.04233], [-3.52386, 40.80756999999999], [-3.7023899999999994, 40.80757], [-3.7023900000000003, 40.04233]]]}, 'DATA_SOURCE_ELEVATION': 'GLS2000', 'WRS_TYPE': 2, 'REFLECTANCE_ADD_BAND_1': -0.2, 'REFLECTANCE_ADD_BAND_2': -0.2, 'DATUM': 'WGS84', 'REFLECTANCE_ADD_BAND_3': -0.2, 'REFLECTANCE_ADD_BAND_4': -0.2, 'REFLECTANCE_ADD_BAND_5': -0.2, 'REFLECTANCE_ADD_BAND_6': -0.2, 'REFLECTANCE_ADD_BAND_7': -0.2, 'REFLECTIVE_SAMPLES': 7791, 'GROUND_CONTROL_POINTS_VERSION': 5, 'SUN_AZIMUTH': 135.59742559, 'UTM_ZONE': 30, 'DATE_ACQUIRED': '2023-08-06', 'ELLIPSOID': 'WGS84', 'system:time_end': 1691319320096, 'DATA_SOURCE_PRESSURE': 'Calculated', 'LANDSAT_PRODUCT_ID': 'LC09_L2SP_201032_20230806_20230808_02_T1', 'STATION_ID': 'LGN', 'TEMPERATURE_ADD_BAND_ST_B10': 149, 'DATA_SOURCE_REANALYSIS': 'GEOS-5 FP-IT', 'REFLECTANCE_MULT_BAND_7': 2.75e-05, 'system:time_start': 1691319320096, 'REFLECTANCE_MULT_BAND_6': 2.75e-05, 'L1_PROCESSING_LEVEL': 'L1TP', 'PROCESSING_SOFTWARE_VERSION': 'LPGS_16.3.0', 'L1_DATE_PRODUCT_GENERATED': '2023-08-06T22:07:35Z', 'ORIENTATION': 'NORTH_UP', 'REFLECTANCE_MULT_BAND_1': 2.75e-05, 'WRS_ROW': 32, 'REFLECTANCE_MULT_BAND_3': 2.75e-05, 'REFLECTANCE_MULT_BAND_2': 2.75e-05, 'TARGET_WRS_ROW': 32, 'REFLECTANCE_MULT_BAND_5': 2.75e-05, 'REFLECTANCE_MULT_BAND_4': 2.75e-05, 'THERMAL_LINES': 7901, 'GRID_CELL_SIZE_THERMAL': 30, 'IMAGE_QUALITY_TIRS': 9, 'NADIR_OFFNADIR': 'NADIR', 'CLOUD_COVER': 0, 'REQUEST_ID': '1771220_00022', 'EARTH_SUN_DISTANCE': 1.0143421, 'COLLECTION_CATEGORY': 'T1', 'SCENE_CENTER_TIME': '10:55:20.0961490Z', 'GRID_CELL_SIZE_REFLECTIVE': 30, 'SUN_ELEVATION': 59.93773571, 'ALGORITHM_SOURCE_SURFACE_TEMPERATURE': 'st_1.5.0', 'TEMPERATURE_MAXIMUM_BAND_ST_B10': 372.999941, 'CLOUD_COVER_LAND': 0, 'GEOMETRIC_RMSE_MODEL': 5.528, 'ROLL_ANGLE': -0.001, 'COLLECTION_NUMBER': 2, 'DATE_PRODUCT_GENERATED': 1691534721000, 'L1_REQUEST_ID': '1770641_00022', 'DATA_SOURCE_OZONE': 'MODIS', 'SATURATION_BAND_1': 'Y', 'DATA_SOURCE_WATER_VAPOR': 'MODIS', 'SATURATION_BAND_2': 'Y', 'SATURATION_BAND_3': 'Y', 'IMAGE_QUALITY_OLI': 9, 'SATURATION_BAND_4': 'Y', 'LANDSAT_SCENE_ID': 'LC92010322023218LGN00', 'SATURATION_BAND_5': 'Y', 'MAP_PROJECTION': 'UTM', 'SATURATION_BAND_6': 'Y', 'SENSOR_ID': 'OLI_TIRS', 'SATURATION_BAND_7': 'Y', 'SATURATION_BAND_8': 'N', 'WRS_PATH': 201, 'L1_PROCESSING_SOFTWARE_VERSION': 'LPGS_16.3.0', 'SATURATION_BAND_9': 'N', 'TARGET_WRS_PATH': 201, 'L1_LANDSAT_PRODUCT_ID': 'LC09_L1TP_201032_20230806_20230806_02_T1', 'TEMPERATURE_MULT_BAND_ST_B10': 0.00341802, 'PROCESSING_LEVEL': 'L2SP', 'ALGORITHM_SOURCE_SURFACE_REFLECTANCE': 'LaSRC_1.6.0', 'GROUND_CONTROL_POINTS_MODEL': 872, 'SPACECRAFT_ID': 'LANDSAT_9', 'TEMPERATURE_MINIMUM_BAND_ST_B10': 149.003418, 'GEOMETRIC_RMSE_MODEL_Y': 3.959, 'REFLECTIVE_LINES': 7901, 'GEOMETRIC_RMSE_MODEL_X': 3.857, 'THERMAL_SAMPLES': 7791, 'system:asset_size': 1005671576, 'DATA_SOURCE_AIR_TEMPERATURE': 'MODIS', 'system:index': 'LC09_201032_20230806'}}\n"
     ]
    },
    {
     "data": {
      "application/vnd.jupyter.widget-view+json": {
       "model_id": "c37f759c5ebf40a68b8bf05b7d9c24ed",
       "version_major": 2,
       "version_minor": 0
      },
      "text/plain": [
       "Map(center=[40.42425881714212, -3.6131250000012645], controls=(WidgetControl(options=['position', 'transparent…"
      ]
     },
     "execution_count": 2,
     "metadata": {},
     "output_type": "execute_result"
    }
   ],
   "source": [
    "# Load image and calculate TB\n",
    "import geemap \n",
    "start_2013 = ee.Date('2013-08-01') # dzien wczesniej bo na 08 nie ma zdj\n",
    "end_2013 = ee.Date('2013-08-15')\n",
    "start_2024 = ee.Date('2023-08-06') # zakres 26-31 bo i tak wszystko >27 stopni\n",
    "end_2024 = ee.Date('2023-08-16')\n",
    "\n",
    "image_2013 = ee.ImageCollection('LANDSAT/LC08/C02/T1_L2').filterBounds(aoi).filterDate(start_2013, end_2013).filterMetadata('CLOUD_COVER', 'less_than', 20).first()\n",
    "image_2024 = ee.ImageCollection('LANDSAT/LC09/C02/T1_L2').filterBounds(aoi).filterDate(start_2024, end_2024).filterMetadata('CLOUD_COVER', 'less_than', 20).first()\n",
    "image_2013 = image_2013.clip(aoi)\n",
    "image_2024 = image_2024.clip(aoi)\n",
    "\n",
    "print(image_2013.getInfo())\n",
    "print(image_2024.getInfo())\n",
    "\n",
    "vis_params = {\n",
    "    'bands': ['SR_B4', 'SR_B3', 'SR_B2'],\n",
    "    'min': 5000,\n",
    "    'max': 15000,\n",
    "    'gamma': 1.3\n",
    "}\n",
    "center = aoi.centroid(10).coordinates().reverse().getInfo()\n",
    "\n",
    "Map = geemap.Map(center=center, zoom=15)\n",
    "\n",
    "Map.addLayer(image_2013, vis_params, 'Landsat 2013-08-08')\n",
    "Map.addLayer(image_2024, vis_params, 'Landsat 2024-08-25')\n",
    "\n",
    "Map"
   ]
  },
  {
   "cell_type": "code",
   "execution_count": 9,
   "id": "f9c49606",
   "metadata": {},
   "outputs": [
    {
     "data": {
      "text/html": [
       "\n",
       "            <style>\n",
       "                .geemap-dark {\n",
       "                    --jp-widgets-color: white;\n",
       "                    --jp-widgets-label-color: white;\n",
       "                    --jp-ui-font-color1: white;\n",
       "                    --jp-layout-color2: #454545;\n",
       "                    background-color: #383838;\n",
       "                }\n",
       "\n",
       "                .geemap-dark .jupyter-button {\n",
       "                    --jp-layout-color3: #383838;\n",
       "                }\n",
       "\n",
       "                .geemap-colab {\n",
       "                    background-color: var(--colab-primary-surface-color, white);\n",
       "                }\n",
       "\n",
       "                .geemap-colab .jupyter-button {\n",
       "                    --jp-layout-color3: var(--colab-primary-surface-color, white);\n",
       "                }\n",
       "            </style>\n",
       "            "
      ],
      "text/plain": [
       "<IPython.core.display.HTML object>"
      ]
     },
     "metadata": {},
     "output_type": "display_data"
    }
   ],
   "source": [
    "tb_2013 = image_2013.select('ST_B10').multiply(0.00341802).add(149.0)\n",
    "tb_2024 = image_2024.select('ST_B10').multiply(0.00341802).add(149.0)\n",
    "\n",
    "\n"
   ]
  },
  {
   "cell_type": "markdown",
   "id": "57c2c4ea",
   "metadata": {},
   "source": [
    "## Step 3: Load CORINE Land Cover data\n",
    "- Use dataset `COPERNICUS/CORINE/V20/100m/2018`\n",
    "- Clip it to your AOI"
   ]
  },
  {
   "cell_type": "code",
   "execution_count": 5,
   "id": "815fa4f6",
   "metadata": {},
   "outputs": [
    {
     "data": {
      "text/html": [
       "\n",
       "            <style>\n",
       "                .geemap-dark {\n",
       "                    --jp-widgets-color: white;\n",
       "                    --jp-widgets-label-color: white;\n",
       "                    --jp-ui-font-color1: white;\n",
       "                    --jp-layout-color2: #454545;\n",
       "                    background-color: #383838;\n",
       "                }\n",
       "\n",
       "                .geemap-dark .jupyter-button {\n",
       "                    --jp-layout-color3: #383838;\n",
       "                }\n",
       "\n",
       "                .geemap-colab {\n",
       "                    background-color: var(--colab-primary-surface-color, white);\n",
       "                }\n",
       "\n",
       "                .geemap-colab .jupyter-button {\n",
       "                    --jp-layout-color3: var(--colab-primary-surface-color, white);\n",
       "                }\n",
       "            </style>\n",
       "            "
      ],
      "text/plain": [
       "<IPython.core.display.HTML object>"
      ]
     },
     "metadata": {},
     "output_type": "display_data"
    },
    {
     "data": {
      "application/vnd.jupyter.widget-view+json": {
       "model_id": "c37f759c5ebf40a68b8bf05b7d9c24ed",
       "version_major": 2,
       "version_minor": 0
      },
      "text/plain": [
       "Map(bottom=396297.0, center=[40.255162653545, -3.7944030761718754], controls=(WidgetControl(options=['position…"
      ]
     },
     "execution_count": 5,
     "metadata": {},
     "output_type": "execute_result"
    }
   ],
   "source": [
    "emissivity_dict = {\n",
    "    111: 0.92,  # Continuous urban fabric\n",
    "    112: 0.92,  # Discontinuous urban fabric\n",
    "    121: 0.91,  # Industrial or commercial units\n",
    "    211: 0.96,  # Non-irrigated arable land\n",
    "    311: 0.98,  # Forests\n",
    "    412: 0.97,  # Peat bogs\n",
    "    324: 0.96,  # Transitional woodland-shrub\n",
    "    231: 0.97   # Pastures\n",
    "}\n",
    "\n",
    "# Load CORINE\n",
    "corine = ee.Image('COPERNICUS/CORINE/V20/100m/2018').clip(aoi)\n",
    "\n",
    "# Assign emissivity values to CORINE classes\n",
    "emissivity = corine.remap(\n",
    "    list(emissivity_dict.keys()),\n",
    "    list(emissivity_dict.values()),\n",
    "    0.95  # Default emissivity value\n",
    ")\n",
    "\n",
    "# Add CORINE and emissivity layers to the map\n",
    "Map.addLayer(corine, {'min': 111, 'max': 231, 'palette': ['blue', 'green', 'yellow', 'red']}, 'CORINE Land Cover')\n",
    "Map.addLayer(emissivity, {'min': 0.9, 'max': 1.0, 'palette': ['blue', 'green', 'yellow', 'red']}, 'Emissivity')\n",
    "Map"
   ]
  },
  {
   "cell_type": "markdown",
   "id": "d9991cfc",
   "metadata": {},
   "source": [
    "## Step 4: Assign emissivity to CORINE classes\n",
    "- Use a dictionary for classes\n",
    "- Use `remap()` and optionally a default value"
   ]
  },
  {
   "cell_type": "code",
   "execution_count": null,
   "id": "3d027423",
   "metadata": {},
   "outputs": [],
   "source": [
    "# Create emissivity image\n",
    "#coppied above \n",
    "emissivity_dict = {\n",
    "    111: 0.92,  # Continuous urban fabric\n",
    "    112: 0.92,  # Discontinuous urban fabric\n",
    "    121: 0.91,  # Industrial or commercial units\n",
    "    211: 0.96,  # Non-irrigated arable land\n",
    "    311: 0.98,  # Forests\n",
    "    412: 0.97,  # Peat bogs\n",
    "    324: 0.96,  # Transitional woodland-shrub\n",
    "    231: 0.97   # Pastures\n",
    "}"
   ]
  },
  {
   "cell_type": "markdown",
   "id": "dd518aea",
   "metadata": {},
   "source": [
    "## Step 5: Calculate LST using the formula:\n",
    "$$\n",
    "LST = \\frac{T_B}{1 + \\left( \\frac{\\lambda \\cdot T_B}{c_2} \\right) \\cdot \\ln(\\varepsilon)}\n",
    "$$\n",
    "- λ = 10.8 µm\n",
    "- c₂ = 14388 µm·K"
   ]
  },
  {
   "cell_type": "code",
   "execution_count": 15,
   "id": "171008bc",
   "metadata": {},
   "outputs": [
    {
     "data": {
      "text/html": [
       "\n",
       "            <style>\n",
       "                .geemap-dark {\n",
       "                    --jp-widgets-color: white;\n",
       "                    --jp-widgets-label-color: white;\n",
       "                    --jp-ui-font-color1: white;\n",
       "                    --jp-layout-color2: #454545;\n",
       "                    background-color: #383838;\n",
       "                }\n",
       "\n",
       "                .geemap-dark .jupyter-button {\n",
       "                    --jp-layout-color3: #383838;\n",
       "                }\n",
       "\n",
       "                .geemap-colab {\n",
       "                    background-color: var(--colab-primary-surface-color, white);\n",
       "                }\n",
       "\n",
       "                .geemap-colab .jupyter-button {\n",
       "                    --jp-layout-color3: var(--colab-primary-surface-color, white);\n",
       "                }\n",
       "            </style>\n",
       "            "
      ],
      "text/plain": [
       "<IPython.core.display.HTML object>"
      ]
     },
     "metadata": {},
     "output_type": "display_data"
    }
   ],
   "source": [
    "# Calculate LST using Earth Engine methods\n",
    "lambda_ = 10.8e-6  # Wavelength in meters (10.8 µm)\n",
    "c2 = 14388  # Second radiation constant in µm·K\n",
    "\n",
    "# Assuming TB (brightness temperature) and emissivity are ee.Image objects\n",
    "TB = tb_2024  # Brightness temperature in Kelvin (ee.Image)\n",
    "epsilon = emissivity  # Emissivity (ee.Image)\n",
    "\n",
    "# Calculate LST\n",
    "LST = TB.divide(\n",
    "    ee.Image(1).add(\n",
    "        ee.Image(lambda_).multiply(TB).divide(c2).multiply(epsilon.log())\n",
    "    )\n",
    ")\n"
   ]
  },
  {
   "cell_type": "markdown",
   "id": "ffdeffa4",
   "metadata": {},
   "source": [
    "## Step 6: Visualize the LST result\n",
    "- Use palette: `['blue', 'yellow', 'red']`\n",
    "- Suggested range: `min=290`, `max=325`"
   ]
  },
  {
   "cell_type": "code",
   "execution_count": 17,
   "id": "b4d0f08e",
   "metadata": {},
   "outputs": [
    {
     "data": {
      "text/html": [
       "\n",
       "            <style>\n",
       "                .geemap-dark {\n",
       "                    --jp-widgets-color: white;\n",
       "                    --jp-widgets-label-color: white;\n",
       "                    --jp-ui-font-color1: white;\n",
       "                    --jp-layout-color2: #454545;\n",
       "                    background-color: #383838;\n",
       "                }\n",
       "\n",
       "                .geemap-dark .jupyter-button {\n",
       "                    --jp-layout-color3: #383838;\n",
       "                }\n",
       "\n",
       "                .geemap-colab {\n",
       "                    background-color: var(--colab-primary-surface-color, white);\n",
       "                }\n",
       "\n",
       "                .geemap-colab .jupyter-button {\n",
       "                    --jp-layout-color3: var(--colab-primary-surface-color, white);\n",
       "                }\n",
       "            </style>\n",
       "            "
      ],
      "text/plain": [
       "<IPython.core.display.HTML object>"
      ]
     },
     "metadata": {},
     "output_type": "display_data"
    },
    {
     "data": {
      "application/vnd.jupyter.widget-view+json": {
       "model_id": "c37f759c5ebf40a68b8bf05b7d9c24ed",
       "version_major": 2,
       "version_minor": 0
      },
      "text/plain": [
       "Map(bottom=99347.0, center=[40.20509926855807, -3.607674879957568], controls=(WidgetControl(options=['position…"
      ]
     },
     "execution_count": 17,
     "metadata": {},
     "output_type": "execute_result"
    }
   ],
   "source": [
    "# Visualize LST\n",
    "# Visualize LST\n",
    "Map.addLayer(LST, {\n",
    "    'min': 290,\n",
    "    'max': 325,\n",
    "    'palette': ['blue', 'yellow', 'red']\n",
    "}, 'Land Surface Temperature')\n",
    "\n",
    "# Display the map\n",
    "Map"
   ]
  },
  {
   "cell_type": "markdown",
   "id": "74c186bf",
   "metadata": {},
   "source": [
    "## Step 7: (Optional) Analyze statistics by land cover class"
   ]
  },
  {
   "cell_type": "code",
   "execution_count": 18,
   "id": "05596938",
   "metadata": {},
   "outputs": [
    {
     "data": {
      "text/html": [
       "\n",
       "            <style>\n",
       "                .geemap-dark {\n",
       "                    --jp-widgets-color: white;\n",
       "                    --jp-widgets-label-color: white;\n",
       "                    --jp-ui-font-color1: white;\n",
       "                    --jp-layout-color2: #454545;\n",
       "                    background-color: #383838;\n",
       "                }\n",
       "\n",
       "                .geemap-dark .jupyter-button {\n",
       "                    --jp-layout-color3: #383838;\n",
       "                }\n",
       "\n",
       "                .geemap-colab {\n",
       "                    background-color: var(--colab-primary-surface-color, white);\n",
       "                }\n",
       "\n",
       "                .geemap-colab .jupyter-button {\n",
       "                    --jp-layout-color3: var(--colab-primary-surface-color, white);\n",
       "                }\n",
       "            </style>\n",
       "            "
      ],
      "text/plain": [
       "<IPython.core.display.HTML object>"
      ]
     },
     "metadata": {},
     "output_type": "display_data"
    },
    {
     "name": "stdout",
     "output_type": "stream",
     "text": [
      "LST Statistics by Land Cover Class: {'ST_B10_mean': 321.13450397685006, 'ST_B10_median': 321.873514792864, 'ST_B10_stdDev': 4.322308044850877, 'landcover_mean': 217.34364877933746, 'landcover_median': 211.0000000000002, 'landcover_stdDev': 80.11511996579573}\n"
     ]
    }
   ],
   "source": [
    "# Optionally compute zonal statistics\n",
    "# Step 7: Analyze statistics by land cover class\n",
    "\n",
    "# Define a region of interest (ROI) if not already defined\n",
    "roi = aoi  # Replace with your actual region of interest\n",
    "\n",
    "# Group LST by land cover classes\n",
    "land_cover_classes = corine  # CORINE land cover image\n",
    "stats = LST.addBands(land_cover_classes).reduceRegion(\n",
    "    reducer=ee.Reducer.mean().combine(\n",
    "        reducer2=ee.Reducer.median(),\n",
    "        sharedInputs=True\n",
    "    ).combine(\n",
    "        reducer2=ee.Reducer.stdDev(),\n",
    "        sharedInputs=True\n",
    "    ),\n",
    "    geometry=roi,\n",
    "    scale=100,  # Adjust scale to match your data resolution\n",
    "    maxPixels=1e13\n",
    ")\n",
    "\n",
    "# Print the statistics\n",
    "print('LST Statistics by Land Cover Class:', stats.getInfo())"
   ]
  },
  {
   "cell_type": "markdown",
   "id": "40c948a6",
   "metadata": {},
   "source": [
    "## Step 8: (Optional - Easter Egg :)) Generate your own Land Cover Classification using TerraTorch and foundation models*\n",
    "\n",
    "Based on the example/tutorial: https://aiforgood.itu.int/event/workshop-earth-observation-foundation-models-with-prithvi-eo-2-0-and-terratorch/\n",
    "\n",
    "*to earn 5.0 grade that will make a great impact on your final grade"
   ]
  },
  {
   "cell_type": "markdown",
   "id": "d4178201",
   "metadata": {},
   "source": []
  },
  {
   "cell_type": "markdown",
   "id": "7092e98e",
   "metadata": {},
   "source": []
  }
 ],
 "metadata": {
  "kernelspec": {
   "display_name": "eo_lab",
   "language": "python",
   "name": "python3"
  },
  "language_info": {
   "codemirror_mode": {
    "name": "ipython",
    "version": 3
   },
   "file_extension": ".py",
   "mimetype": "text/x-python",
   "name": "python",
   "nbconvert_exporter": "python",
   "pygments_lexer": "ipython3",
   "version": "3.9.21"
  }
 },
 "nbformat": 4,
 "nbformat_minor": 5
}
