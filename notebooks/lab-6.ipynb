{
 "cells": [
  {
   "cell_type": "markdown",
   "id": "47c657de",
   "metadata": {},
   "source": [
    "\n",
    "# 🌍 Manual TOA Reflectance from Landsat 8\n",
    "\n",
    "## 🎯 Learning Objectives:\n",
    "- Load Landsat 8 Level-1 data from Earth Engine\n",
    "- Understand the process of converting DN values to radiance\n",
    "- Compute Top-of-Atmosphere (TOA) reflectance from radiance\n",
    "- Visualize results on an interactive map using `geemap`\n",
    "\n",
    "---\n",
    "\n",
    "## 📝 Your Tasks:\n",
    "1. Load a Landsat 8 Level-1 image over Kraków in July 2021.\n",
    "2. From metadata, extract the scaling coefficients for each band (RADIANCE_MULT, RADIANCE_ADD).\n",
    "3. Convert DN to Radiance using the linear formula.\n",
    "4. Use the ESUN values and solar elevation to convert Radiance to TOA Reflectance.\n",
    "5. Visualize both the original DN RGB and your TOA Reflectance RGB image.\n",
    "6. (Optional) Try using a different location or time range.\n"
   ]
  },
  {
   "cell_type": "code",
   "execution_count": 2,
   "id": "e924d287",
   "metadata": {},
   "outputs": [
    {
     "data": {
      "text/html": [
       "\n",
       "            <style>\n",
       "                .geemap-dark {\n",
       "                    --jp-widgets-color: white;\n",
       "                    --jp-widgets-label-color: white;\n",
       "                    --jp-ui-font-color1: white;\n",
       "                    --jp-layout-color2: #454545;\n",
       "                    background-color: #383838;\n",
       "                }\n",
       "\n",
       "                .geemap-dark .jupyter-button {\n",
       "                    --jp-layout-color3: #383838;\n",
       "                }\n",
       "\n",
       "                .geemap-colab {\n",
       "                    background-color: var(--colab-primary-surface-color, white);\n",
       "                }\n",
       "\n",
       "                .geemap-colab .jupyter-button {\n",
       "                    --jp-layout-color3: var(--colab-primary-surface-color, white);\n",
       "                }\n",
       "            </style>\n",
       "            "
      ],
      "text/plain": [
       "<IPython.core.display.HTML object>"
      ]
     },
     "metadata": {},
     "output_type": "display_data"
    },
    {
     "data": {
      "text/html": [
       "<p>To authorize access needed by Earth Engine, open the following\n",
       "        URL in a web browser and follow the instructions:</p>\n",
       "        <p><a href=https://code.earthengine.google.com/client-auth?scopes=https%3A//www.googleapis.com/auth/earthengine%20https%3A//www.googleapis.com/auth/cloud-platform%20https%3A//www.googleapis.com/auth/devstorage.full_control&request_id=7pK_-RsdSn6KHBft_GKUS5_buMs3_GwoWlxagpp0cQM&tc=wPYhJs_dd9Y1_DNMYEo6ZntkazyqGBKkz5HTI7o6bu0&cc=Wiw95mPb5N2vTrRSNOlnLLki2cWnDC6Pdbd59HtXFxs>https://code.earthengine.google.com/client-auth?scopes=https%3A//www.googleapis.com/auth/earthengine%20https%3A//www.googleapis.com/auth/cloud-platform%20https%3A//www.googleapis.com/auth/devstorage.full_control&request_id=7pK_-RsdSn6KHBft_GKUS5_buMs3_GwoWlxagpp0cQM&tc=wPYhJs_dd9Y1_DNMYEo6ZntkazyqGBKkz5HTI7o6bu0&cc=Wiw95mPb5N2vTrRSNOlnLLki2cWnDC6Pdbd59HtXFxs</a></p>\n",
       "        <p>The authorization workflow will generate a code, which you should paste in the box below.</p>\n",
       "        "
      ],
      "text/plain": [
       "<IPython.core.display.HTML object>"
      ]
     },
     "metadata": {},
     "output_type": "display_data"
    },
    {
     "name": "stdout",
     "output_type": "stream",
     "text": [
      "\n",
      "Successfully saved authorization token.\n"
     ]
    }
   ],
   "source": [
    "import ee\n",
    "import geemap\n",
    "ee.Authenticate()\n",
    "ee.Initialize(project='ee-martynadurda')"
   ]
  },
  {
   "cell_type": "markdown",
   "id": "34ab523d",
   "metadata": {},
   "source": [
    "\n",
    "## 🗺️ Step 1: Define Area of Interest (AOI)\n",
    "\n",
    "Use Kraków (Poland) as your starting point. You can define this using a point geometry.\n"
   ]
  },
  {
   "cell_type": "code",
   "execution_count": 3,
   "id": "590206f1",
   "metadata": {},
   "outputs": [
    {
     "data": {
      "text/html": [
       "\n",
       "            <style>\n",
       "                .geemap-dark {\n",
       "                    --jp-widgets-color: white;\n",
       "                    --jp-widgets-label-color: white;\n",
       "                    --jp-ui-font-color1: white;\n",
       "                    --jp-layout-color2: #454545;\n",
       "                    background-color: #383838;\n",
       "                }\n",
       "\n",
       "                .geemap-dark .jupyter-button {\n",
       "                    --jp-layout-color3: #383838;\n",
       "                }\n",
       "\n",
       "                .geemap-colab {\n",
       "                    background-color: var(--colab-primary-surface-color, white);\n",
       "                }\n",
       "\n",
       "                .geemap-colab .jupyter-button {\n",
       "                    --jp-layout-color3: var(--colab-primary-surface-color, white);\n",
       "                }\n",
       "            </style>\n",
       "            "
      ],
      "text/plain": [
       "<IPython.core.display.HTML object>"
      ]
     },
     "metadata": {},
     "output_type": "display_data"
    }
   ],
   "source": [
    "aoi = ee.Geometry.Point([19.9449799, 50.0646501])"
   ]
  },
  {
   "cell_type": "markdown",
   "id": "37768612",
   "metadata": {},
   "source": [
    "\n",
    "## 📦 Step 2: Load Landsat 8 Level-1 Image (Collection 2)\n",
    "\n",
    "Load the `LANDSAT/LC08/C02/T1_L1` collection, filter for July 2021, and select the image with the least cloud cover.\n"
   ]
  },
  {
   "cell_type": "code",
   "execution_count": 4,
   "id": "bea25328",
   "metadata": {},
   "outputs": [
    {
     "data": {
      "text/html": [
       "\n",
       "            <style>\n",
       "                .geemap-dark {\n",
       "                    --jp-widgets-color: white;\n",
       "                    --jp-widgets-label-color: white;\n",
       "                    --jp-ui-font-color1: white;\n",
       "                    --jp-layout-color2: #454545;\n",
       "                    background-color: #383838;\n",
       "                }\n",
       "\n",
       "                .geemap-dark .jupyter-button {\n",
       "                    --jp-layout-color3: #383838;\n",
       "                }\n",
       "\n",
       "                .geemap-colab {\n",
       "                    background-color: var(--colab-primary-surface-color, white);\n",
       "                }\n",
       "\n",
       "                .geemap-colab .jupyter-button {\n",
       "                    --jp-layout-color3: var(--colab-primary-surface-color, white);\n",
       "                }\n",
       "            </style>\n",
       "            "
      ],
      "text/plain": [
       "<IPython.core.display.HTML object>"
      ]
     },
     "metadata": {},
     "output_type": "display_data"
    },
    {
     "name": "stdout",
     "output_type": "stream",
     "text": [
      "Image ID: LANDSAT/LC08/C02/T1/LC08_188025_20210728\n"
     ]
    }
   ],
   "source": [
    "image = (ee.ImageCollection(\"LANDSAT/LC08/C02/T1\")\n",
    "         .filterBounds(aoi)\n",
    "         .filterDate('2021-07-01', '2021-07-31')\n",
    "         .sort('CLOUD_COVER')\n",
    "         .first())\n",
    "\n",
    "print('Image ID:', image.getInfo()['id'])"
   ]
  },
  {
   "cell_type": "markdown",
   "id": "f8019cf1",
   "metadata": {},
   "source": [
    "\n",
    "## 🔢 Step 3: Convert DN to Radiance\n",
    "\n",
    "Use the formula:\n",
    "\n",
    "```\n",
    "Radiance = M_L * DN + A_L\n",
    "```\n",
    "\n",
    "Where:\n",
    "- `M_L` is `RADIANCE_MULT_BAND_X` from metadata\n",
    "- `A_L` is `RADIANCE_ADD_BAND_X`\n",
    "- DN is the digital number of each band\n",
    "\n",
    "💡 Tip: You can use `image.get('RADIANCE_MULT_BAND_4')` to retrieve the multiplier for band 4.\n"
   ]
  },
  {
   "cell_type": "code",
   "execution_count": 5,
   "id": "c6319254",
   "metadata": {},
   "outputs": [
    {
     "data": {
      "text/html": [
       "\n",
       "            <style>\n",
       "                .geemap-dark {\n",
       "                    --jp-widgets-color: white;\n",
       "                    --jp-widgets-label-color: white;\n",
       "                    --jp-ui-font-color1: white;\n",
       "                    --jp-layout-color2: #454545;\n",
       "                    background-color: #383838;\n",
       "                }\n",
       "\n",
       "                .geemap-dark .jupyter-button {\n",
       "                    --jp-layout-color3: #383838;\n",
       "                }\n",
       "\n",
       "                .geemap-colab {\n",
       "                    background-color: var(--colab-primary-surface-color, white);\n",
       "                }\n",
       "\n",
       "                .geemap-colab .jupyter-button {\n",
       "                    --jp-layout-color3: var(--colab-primary-surface-color, white);\n",
       "                }\n",
       "            </style>\n",
       "            "
      ],
      "text/plain": [
       "<IPython.core.display.HTML object>"
      ]
     },
     "metadata": {},
     "output_type": "display_data"
    }
   ],
   "source": [
    "def radiance_band(band):\n",
    "    M = ee.Number(image.get(f'RADIANCE_MULT_BAND_{band}'))\n",
    "    A = ee.Number(image.get(f'RADIANCE_ADD_BAND_{band}'))\n",
    "    DN = image.select(f'B{band}')\n",
    "    return DN.multiply(M).add(A).rename(f'B{band}_rad')\n",
    "\n",
    "radiance = ee.Image.cat([\n",
    "    radiance_band(2),\n",
    "    radiance_band(3),\n",
    "    radiance_band(4),\n",
    "    radiance_band(5)\n",
    "])"
   ]
  },
  {
   "cell_type": "markdown",
   "id": "29d08a4a",
   "metadata": {},
   "source": [
    "\n",
    "## 📊 Step 4: Convert Radiance to TOA Reflectance\n",
    "\n",
    "Use the following equation from the USGS Landsat Handbook:\n",
    "\n",
    "```\n",
    "TOA Reflectance = (π * L_λ * d²) / (ESUN * cos(θ_s))\n",
    "```\n",
    "\n",
    "Where:\n",
    "- `L_λ` = radiance\n",
    "- `d` = Earth–Sun distance in AU (assume 1.0 for simplification)\n",
    "- `ESUN` = solar spectral irradiance (use constants from handbook)\n",
    "- `θ_s` = solar zenith angle = 90° - sun elevation (from image metadata)\n",
    "\n",
    "Use these ESUN values:\n",
    "- B2: 2067  \n",
    "- B3: 1893  \n",
    "- B4: 1603  \n",
    "- B5: 972\n"
   ]
  },
  {
   "cell_type": "code",
   "execution_count": 8,
   "id": "45fd2a93",
   "metadata": {},
   "outputs": [
    {
     "data": {
      "text/html": [
       "\n",
       "            <style>\n",
       "                .geemap-dark {\n",
       "                    --jp-widgets-color: white;\n",
       "                    --jp-widgets-label-color: white;\n",
       "                    --jp-ui-font-color1: white;\n",
       "                    --jp-layout-color2: #454545;\n",
       "                    background-color: #383838;\n",
       "                }\n",
       "\n",
       "                .geemap-dark .jupyter-button {\n",
       "                    --jp-layout-color3: #383838;\n",
       "                }\n",
       "\n",
       "                .geemap-colab {\n",
       "                    background-color: var(--colab-primary-surface-color, white);\n",
       "                }\n",
       "\n",
       "                .geemap-colab .jupyter-button {\n",
       "                    --jp-layout-color3: var(--colab-primary-surface-color, white);\n",
       "                }\n",
       "            </style>\n",
       "            "
      ],
      "text/plain": [
       "<IPython.core.display.HTML object>"
      ]
     },
     "metadata": {},
     "output_type": "display_data"
    }
   ],
   "source": [
    "import math\n",
    "\n",
    "# ESUN values for each band\n",
    "ESUN = {\n",
    "    'B2': 2067,\n",
    "    'B3': 1893,\n",
    "    'B4': 1603,\n",
    "    'B5': 972\n",
    "}\n",
    "\n",
    "\n",
    "sun_elevation = ee.Number(image.get('SUN_ELEVATION'))\n",
    "theta_s = ee.Number(90).subtract(sun_elevation).multiply(math.pi).divide(180)\n",
    "\n",
    "\n",
    "def reflectance_band(band):\n",
    "    L = radiance.select(f'B{band}_rad')\n",
    "    esun = ESUN[f'B{band}']\n",
    "    reflectance = L.multiply(math.pi).divide(ee.Number(esun).multiply(theta_s.cos())).rename(f'B{band}_refl')\n",
    "    return reflectance\n",
    "\n",
    "reflectance = ee.Image.cat([\n",
    "    reflectance_band(2),\n",
    "    reflectance_band(3),\n",
    "    reflectance_band(4),\n",
    "    reflectance_band(5)\n",
    "])"
   ]
  },
  {
   "cell_type": "markdown",
   "id": "17b48693",
   "metadata": {},
   "source": [
    "\n",
    "## 🖼️ Step 5: Visualize the Results\n",
    "\n",
    "Use `geemap` to create an interactive map. Display:\n",
    "- Original RGB from DN bands\n",
    "- Your manually calculated TOA Reflectance RGB\n",
    "\n",
    "💡 Hint: Use `.clamp(0, 0.4)` on reflectance bands for better visualization.\n"
   ]
  },
  {
   "cell_type": "code",
   "execution_count": 7,
   "id": "1d967e54",
   "metadata": {},
   "outputs": [
    {
     "data": {
      "text/html": [
       "\n",
       "            <style>\n",
       "                .geemap-dark {\n",
       "                    --jp-widgets-color: white;\n",
       "                    --jp-widgets-label-color: white;\n",
       "                    --jp-ui-font-color1: white;\n",
       "                    --jp-layout-color2: #454545;\n",
       "                    background-color: #383838;\n",
       "                }\n",
       "\n",
       "                .geemap-dark .jupyter-button {\n",
       "                    --jp-layout-color3: #383838;\n",
       "                }\n",
       "\n",
       "                .geemap-colab {\n",
       "                    background-color: var(--colab-primary-surface-color, white);\n",
       "                }\n",
       "\n",
       "                .geemap-colab .jupyter-button {\n",
       "                    --jp-layout-color3: var(--colab-primary-surface-color, white);\n",
       "                }\n",
       "            </style>\n",
       "            "
      ],
      "text/plain": [
       "<IPython.core.display.HTML object>"
      ]
     },
     "metadata": {},
     "output_type": "display_data"
    },
    {
     "data": {
      "application/vnd.jupyter.widget-view+json": {
       "model_id": "2febb9e3b0cb48fdb81f409a4c4e4288",
       "version_major": 2,
       "version_minor": 0
      },
      "text/plain": [
       "Map(center=[50.0647, 19.945], controls=(WidgetControl(options=['position', 'transparent_bg'], widget=SearchDat…"
      ]
     },
     "execution_count": 7,
     "metadata": {},
     "output_type": "execute_result"
    }
   ],
   "source": [
    "Map = geemap.Map(center=[50.0647, 19.945], zoom=10)\n",
    "\n",
    "# Original DN RGB visualization\n",
    "dn_vis_params = {\n",
    "    'bands': ['B4', 'B3', 'B2'],\n",
    "    'min': 0,\n",
    "    'max': 30000,\n",
    "    'gamma': 1.4\n",
    "}\n",
    "Map.addLayer(image, dn_vis_params, 'Original DN RGB')\n",
    "\n",
    "# TOA Reflectance visualization (clamped to [0, 0.4] for better contrast)\n",
    "toa_rgb = reflectance.select(['B4_refl', 'B3_refl', 'B2_refl']).clamp(0, 0.4)\n",
    "toa_vis_params = {\n",
    "    'min': 0,\n",
    "    'max': 0.4\n",
    "}\n",
    "Map.addLayer(toa_rgb, toa_vis_params, 'TOA Reflectance RGB')\n",
    "\n",
    "Map.addLayerControl()\n",
    "Map"
   ]
  },
  {
   "cell_type": "markdown",
   "id": "211ece04",
   "metadata": {},
   "source": [
    "\n",
    "## 🧪 Optional Extensions\n",
    "\n",
    "- Try the same workflow on a different city or biome (e.g., desert, rainforest).\n",
    "- Add NIR band to your analysis (B5).\n",
    "- Compute NDVI from TOA or compare with Surface Reflectance data.\n",
    "- Export the resulting reflectance image to Google Drive.\n"
   ]
  }
 ],
 "metadata": {
  "kernelspec": {
   "display_name": "eo_lab",
   "language": "python",
   "name": "python3"
  },
  "language_info": {
   "codemirror_mode": {
    "name": "ipython",
    "version": 3
   },
   "file_extension": ".py",
   "mimetype": "text/x-python",
   "name": "python",
   "nbconvert_exporter": "python",
   "pygments_lexer": "ipython3",
   "version": "3.9.21"
  }
 },
 "nbformat": 4,
 "nbformat_minor": 5
}
