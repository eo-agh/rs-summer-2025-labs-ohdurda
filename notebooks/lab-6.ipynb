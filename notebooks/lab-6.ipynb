{
 "cells": [
  {
   "cell_type": "markdown",
   "id": "47c657de",
   "metadata": {},
   "source": [
    "\n",
    "# 🌍 Manual TOA Reflectance from Landsat 8\n",
    "\n",
    "## 🎯 Learning Objectives:\n",
    "- Load Landsat 8 Level-1 data from Earth Engine\n",
    "- Understand the process of converting DN values to radiance\n",
    "- Compute Top-of-Atmosphere (TOA) reflectance from radiance\n",
    "- Visualize results on an interactive map using `geemap`\n",
    "\n",
    "---\n",
    "\n",
    "## 📝 Your Tasks:\n",
    "1. Load a Landsat 8 Level-1 image over Kraków in July 2021.\n",
    "2. From metadata, extract the scaling coefficients for each band (RADIANCE_MULT, RADIANCE_ADD).\n",
    "3. Convert DN to Radiance using the linear formula.\n",
    "4. Use the ESUN values and solar elevation to convert Radiance to TOA Reflectance.\n",
    "5. Visualize both the original DN RGB and your TOA Reflectance RGB image.\n",
    "6. (Optional) Try using a different location or time range.\n"
   ]
  },
  {
   "cell_type": "markdown",
   "id": "34ab523d",
   "metadata": {},
   "source": [
    "\n",
    "## 🗺️ Step 1: Define Area of Interest (AOI)\n",
    "\n",
    "Use Kraków (Poland) as your starting point. You can define this using a point geometry.\n"
   ]
  },
  {
   "cell_type": "markdown",
   "id": "37768612",
   "metadata": {},
   "source": [
    "\n",
    "## 📦 Step 2: Load Landsat 8 Level-1 Image (Collection 2)\n",
    "\n",
    "Load the `LANDSAT/LC08/C02/T1_L1` collection, filter for July 2021, and select the image with the least cloud cover.\n"
   ]
  },
  {
   "cell_type": "markdown",
   "id": "f8019cf1",
   "metadata": {},
   "source": [
    "\n",
    "## 🔢 Step 3: Convert DN to Radiance\n",
    "\n",
    "Use the formula:\n",
    "\n",
    "```\n",
    "Radiance = M_L * DN + A_L\n",
    "```\n",
    "\n",
    "Where:\n",
    "- `M_L` is `RADIANCE_MULT_BAND_X` from metadata\n",
    "- `A_L` is `RADIANCE_ADD_BAND_X`\n",
    "- DN is the digital number of each band\n",
    "\n",
    "💡 Tip: You can use `image.get('RADIANCE_MULT_BAND_4')` to retrieve the multiplier for band 4.\n"
   ]
  },
  {
   "cell_type": "markdown",
   "id": "29d08a4a",
   "metadata": {},
   "source": [
    "\n",
    "## 📊 Step 4: Convert Radiance to TOA Reflectance\n",
    "\n",
    "Use the following equation from the USGS Landsat Handbook:\n",
    "\n",
    "```\n",
    "TOA Reflectance = (π * L_λ * d²) / (ESUN * cos(θ_s))\n",
    "```\n",
    "\n",
    "Where:\n",
    "- `L_λ` = radiance\n",
    "- `d` = Earth–Sun distance in AU (assume 1.0 for simplification)\n",
    "- `ESUN` = solar spectral irradiance (use constants from handbook)\n",
    "- `θ_s` = solar zenith angle = 90° - sun elevation (from image metadata)\n",
    "\n",
    "Use these ESUN values:\n",
    "- B2: 2067  \n",
    "- B3: 1893  \n",
    "- B4: 1603  \n",
    "- B5: 972\n"
   ]
  },
  {
   "cell_type": "markdown",
   "id": "17b48693",
   "metadata": {},
   "source": [
    "\n",
    "## 🖼️ Step 5: Visualize the Results\n",
    "\n",
    "Use `geemap` to create an interactive map. Display:\n",
    "- Original RGB from DN bands\n",
    "- Your manually calculated TOA Reflectance RGB\n",
    "\n",
    "💡 Hint: Use `.clamp(0, 0.4)` on reflectance bands for better visualization.\n"
   ]
  },
  {
   "cell_type": "markdown",
   "id": "211ece04",
   "metadata": {},
   "source": [
    "\n",
    "## 🧪 Optional Extensions\n",
    "\n",
    "- Try the same workflow on a different city or biome (e.g., desert, rainforest).\n",
    "- Add NIR band to your analysis (B5).\n",
    "- Compute NDVI from TOA or compare with Surface Reflectance data.\n",
    "- Export the resulting reflectance image to Google Drive.\n"
   ]
  }
 ],
 "metadata": {
  "language_info": {
   "name": "python"
  }
 },
 "nbformat": 4,
 "nbformat_minor": 5
}
