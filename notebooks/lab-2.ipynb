{
 "cells": [
  {
   "cell_type": "markdown",
   "id": "c115edb2",
   "metadata": {},
   "source": [
    "# Exercise 2: Vegetation Index Analysis\n",
    "In this exercise, you will analyze vegetation changes within one growing season in a selected agricultural region (Kujawy, Poland)."
   ]
  },
  {
   "cell_type": "markdown",
   "id": "1761c7f1",
   "metadata": {},
   "source": [
    "## Task 1: Define AOI\n",
    "Create an Area of Interest (AOI) using the coordinates provided below."
   ]
  },
  {
   "cell_type": "code",
   "execution_count": 1,
   "id": "9f4c98f3",
   "metadata": {},
   "outputs": [],
   "source": [
    "# TODO: Define AOI\n",
    "import ee\n",
    "ee.Authenticate()\n",
    "ee.Initialize()\n",
    "ee.Initialize(project='ee-martynadurda')\n",
    "aoi = ee.Geometry.Rectangle([21.50, 50.45, 21.37, 50.57])"
   ]
  },
  {
   "cell_type": "markdown",
   "id": "44ec57e7",
   "metadata": {},
   "source": [
    "## Task 2: Retrieve Sentinel-2 Imagery\n",
    "Retrieve two Sentinel-2 satellite images from the following dates: 2023-04-01 and 2023-07-01."
   ]
  },
  {
   "cell_type": "code",
   "execution_count": 4,
   "id": "cd32529c",
   "metadata": {},
   "outputs": [
    {
     "name": "stdout",
     "output_type": "stream",
     "text": [
      "Image 1 (April) found:\n",
      "{'type': 'Image', 'bands': [{'id': 'B1', 'data_type': {'type': 'PixelType', 'precision': 'int', 'min': 0, 'max': 65535}, 'dimensions': [1830, 1830], 'crs': 'EPSG:32634', 'crs_transform': [60, 0, 499980, 0, -60, 5700000]}, {'id': 'B2', 'data_type': {'type': 'PixelType', 'precision': 'int', 'min': 0, 'max': 65535}, 'dimensions': [10980, 10980], 'crs': 'EPSG:32634', 'crs_transform': [10, 0, 499980, 0, -10, 5700000]}, {'id': 'B3', 'data_type': {'type': 'PixelType', 'precision': 'int', 'min': 0, 'max': 65535}, 'dimensions': [10980, 10980], 'crs': 'EPSG:32634', 'crs_transform': [10, 0, 499980, 0, -10, 5700000]}, {'id': 'B4', 'data_type': {'type': 'PixelType', 'precision': 'int', 'min': 0, 'max': 65535}, 'dimensions': [10980, 10980], 'crs': 'EPSG:32634', 'crs_transform': [10, 0, 499980, 0, -10, 5700000]}, {'id': 'B5', 'data_type': {'type': 'PixelType', 'precision': 'int', 'min': 0, 'max': 65535}, 'dimensions': [5490, 5490], 'crs': 'EPSG:32634', 'crs_transform': [20, 0, 499980, 0, -20, 5700000]}, {'id': 'B6', 'data_type': {'type': 'PixelType', 'precision': 'int', 'min': 0, 'max': 65535}, 'dimensions': [5490, 5490], 'crs': 'EPSG:32634', 'crs_transform': [20, 0, 499980, 0, -20, 5700000]}, {'id': 'B7', 'data_type': {'type': 'PixelType', 'precision': 'int', 'min': 0, 'max': 65535}, 'dimensions': [5490, 5490], 'crs': 'EPSG:32634', 'crs_transform': [20, 0, 499980, 0, -20, 5700000]}, {'id': 'B8', 'data_type': {'type': 'PixelType', 'precision': 'int', 'min': 0, 'max': 65535}, 'dimensions': [10980, 10980], 'crs': 'EPSG:32634', 'crs_transform': [10, 0, 499980, 0, -10, 5700000]}, {'id': 'B8A', 'data_type': {'type': 'PixelType', 'precision': 'int', 'min': 0, 'max': 65535}, 'dimensions': [5490, 5490], 'crs': 'EPSG:32634', 'crs_transform': [20, 0, 499980, 0, -20, 5700000]}, {'id': 'B9', 'data_type': {'type': 'PixelType', 'precision': 'int', 'min': 0, 'max': 65535}, 'dimensions': [1830, 1830], 'crs': 'EPSG:32634', 'crs_transform': [60, 0, 499980, 0, -60, 5700000]}, {'id': 'B10', 'data_type': {'type': 'PixelType', 'precision': 'int', 'min': 0, 'max': 65535}, 'dimensions': [1830, 1830], 'crs': 'EPSG:32634', 'crs_transform': [60, 0, 499980, 0, -60, 5700000]}, {'id': 'B11', 'data_type': {'type': 'PixelType', 'precision': 'int', 'min': 0, 'max': 65535}, 'dimensions': [5490, 5490], 'crs': 'EPSG:32634', 'crs_transform': [20, 0, 499980, 0, -20, 5700000]}, {'id': 'B12', 'data_type': {'type': 'PixelType', 'precision': 'int', 'min': 0, 'max': 65535}, 'dimensions': [5490, 5490], 'crs': 'EPSG:32634', 'crs_transform': [20, 0, 499980, 0, -20, 5700000]}, {'id': 'QA10', 'data_type': {'type': 'PixelType', 'precision': 'int', 'min': 0, 'max': 65535}, 'dimensions': [10980, 10980], 'crs': 'EPSG:32634', 'crs_transform': [10, 0, 499980, 0, -10, 5700000]}, {'id': 'QA20', 'data_type': {'type': 'PixelType', 'precision': 'int', 'min': 0, 'max': 4294967295}, 'dimensions': [5490, 5490], 'crs': 'EPSG:32634', 'crs_transform': [20, 0, 499980, 0, -20, 5700000]}, {'id': 'QA60', 'data_type': {'type': 'PixelType', 'precision': 'int', 'min': 0, 'max': 65535}, 'dimensions': [1830, 1830], 'crs': 'EPSG:32634', 'crs_transform': [60, 0, 499980, 0, -60, 5700000]}], 'version': 1736895128900447, 'id': 'COPERNICUS/S2/20230424T094031_20230424T094030_T34UEB', 'properties': {'DATATAKE_IDENTIFIER': 'GS2A_20230424T094031_040931_N05.09', 'SPACECRAFT_NAME': 'Sentinel-2A', 'RADIO_ADD_OFFSET_B8A': -1000, 'MEAN_INCIDENCE_AZIMUTH_ANGLE_B8A': 203.293858607709, 'RADIO_ADD_OFFSET_B10': -1000, 'MEAN_SOLAR_AZIMUTH_ANGLE': 162.616560006548, 'system:footprint': {'type': 'LinearRing', 'coordinates': [[20.99956890092786, 51.451193482176784], [20.999567835427474, 51.4511822014245], [20.9995768556313, 50.463978265532454], [20.999634273562346, 50.463936841780416], [20.99968311115427, 50.46389109574483], [20.999706400920566, 50.46388827411133], [22.546157749046532, 50.45361687530687], [22.546223994951678, 50.45365254195612], [22.54629680227282, 50.453682718359325], [22.546301790673887, 50.45369739928983], [22.562618317859577, 50.94714694682947], [22.579400707911027, 51.440543103159456], [22.57934343284006, 51.44058534556074], [22.579295195634565, 51.44063174777768], [22.57927159613873, 51.44063484325241], [20.99971219774691, 51.4512721734479], [20.999645607825425, 51.451235610393724], [20.999572239562458, 51.45120450526146], [20.99956890092786, 51.451193482176784]]}, 'SOLAR_IRRADIANCE_B12': 85.25, 'SOLAR_IRRADIANCE_B10': 367.15, 'SENSOR_QUALITY': 'PASSED', 'SOLAR_IRRADIANCE_B11': 245.59, 'GENERATION_TIME': 1682332693000, 'RADIO_ADD_OFFSET_B12': -1000, 'RADIO_ADD_OFFSET_B11': -1000, 'SOLAR_IRRADIANCE_B8A': 955.32, 'FORMAT_CORRECTNESS': 'PASSED', 'CLOUD_COVERAGE_ASSESSMENT': 1.53005464480874, 'system:time_end': 1682329584858, 'SNOW_PIXEL_PERCENTAGE': 0, 'system:time_start': 1682329584858, 'RADIO_ADD_OFFSET_B1': -1000, 'RADIO_ADD_OFFSET_B2': -1000, 'DATASTRIP_ID': 'S2A_OPER_MSI_L1C_DS_2APS_20230424T103813_S20230424T094030_N05.09', 'RADIO_ADD_OFFSET_B3': -1000, 'RADIO_ADD_OFFSET_B4': -1000, 'RADIO_ADD_OFFSET_B5': -1000, 'PROCESSING_BASELINE': '05.09', 'SENSING_ORBIT_NUMBER': 36, 'RADIO_ADD_OFFSET_B6': -1000, 'RADIO_ADD_OFFSET_B7': -1000, 'SENSING_ORBIT_DIRECTION': 'DESCENDING', 'GENERAL_QUALITY': 'PASSED', 'GRANULE_ID': 'L1C_T34UEB_A040931_20230424T094030', 'REFLECTANCE_CONVERSION_CORRECTION': 0.99120425598738, 'MEAN_INCIDENCE_AZIMUTH_ANGLE_B8': 207.426134153165, 'DATATAKE_TYPE': 'INS-NOBS', 'MEAN_INCIDENCE_AZIMUTH_ANGLE_B9': 202.765258741408, 'MEAN_INCIDENCE_AZIMUTH_ANGLE_B6': 203.850229230183, 'MEAN_INCIDENCE_AZIMUTH_ANGLE_B7': 203.585750485453, 'MEAN_INCIDENCE_AZIMUTH_ANGLE_B4': 204.993573853253, 'MEAN_INCIDENCE_ZENITH_ANGLE_B1': 3.21879640284016, 'RADIO_ADD_OFFSET_B8': -1000, 'MEAN_INCIDENCE_AZIMUTH_ANGLE_B5': 204.302673107237, 'RADIOMETRIC_QUALITY': 'PASSED', 'RADIO_ADD_OFFSET_B9': -1000, 'MEAN_INCIDENCE_AZIMUTH_ANGLE_B2': 208.816014513008, 'MEAN_INCIDENCE_AZIMUTH_ANGLE_B3': 206.332918745561, 'MEAN_INCIDENCE_ZENITH_ANGLE_B5': 2.88028634933403, 'MEAN_INCIDENCE_AZIMUTH_ANGLE_B1': 202.960171926055, 'MEAN_INCIDENCE_ZENITH_ANGLE_B4': 2.80889153598457, 'MEAN_INCIDENCE_ZENITH_ANGLE_B3': 2.6856047186194, 'MEAN_INCIDENCE_ZENITH_ANGLE_B2': 2.57764513957307, 'MEAN_INCIDENCE_ZENITH_ANGLE_B9': 3.31332148823445, 'MEAN_INCIDENCE_ZENITH_ANGLE_B8': 2.62813991275126, 'MEAN_INCIDENCE_ZENITH_ANGLE_B7': 3.04204992282389, 'MEAN_INCIDENCE_ZENITH_ANGLE_B6': 2.95797680854574, 'MEAN_SOLAR_ZENITH_ANGLE': 39.1799016170016, 'MEAN_INCIDENCE_ZENITH_ANGLE_B8A': 3.12757087217738, 'MGRS_TILE': '34UEB', 'CLOUDY_PIXEL_PERCENTAGE': 1.53005464480874, 'PRODUCT_ID': 'S2A_MSIL1C_20230424T094031_N0509_R036_T34UEB_20230424T103813', 'MEAN_INCIDENCE_ZENITH_ANGLE_B10': 2.77030969541859, 'SOLAR_IRRADIANCE_B9': 812.92, 'DEGRADED_MSI_DATA_PERCENTAGE': 0.0006, 'MEAN_INCIDENCE_ZENITH_ANGLE_B11': 2.94347391126579, 'MEAN_INCIDENCE_ZENITH_ANGLE_B12': 3.14373835411771, 'SOLAR_IRRADIANCE_B6': 1287.61, 'MEAN_INCIDENCE_AZIMUTH_ANGLE_B10': 204.913540554029, 'SOLAR_IRRADIANCE_B5': 1424.64, 'MEAN_INCIDENCE_AZIMUTH_ANGLE_B11': 203.258768553134, 'SOLAR_IRRADIANCE_B8': 1041.63, 'MEAN_INCIDENCE_AZIMUTH_ANGLE_B12': 202.47988162944, 'SOLAR_IRRADIANCE_B7': 1162.08, 'SOLAR_IRRADIANCE_B2': 1959.66, 'SOLAR_IRRADIANCE_B1': 1884.69, 'SOLAR_IRRADIANCE_B4': 1512.06, 'GEOMETRIC_QUALITY': 'PASSED', 'SOLAR_IRRADIANCE_B3': 1823.24, 'system:asset_size': 1332173099, 'system:index': '20230424T094031_20230424T094030_T34UEB'}}\n",
      "Image 2 (July) found:\n",
      "{'type': 'Image', 'bands': [{'id': 'B1', 'data_type': {'type': 'PixelType', 'precision': 'int', 'min': 0, 'max': 65535}, 'dimensions': [1830, 1830], 'crs': 'EPSG:32634', 'crs_transform': [60, 0, 499980, 0, -60, 5600040]}, {'id': 'B2', 'data_type': {'type': 'PixelType', 'precision': 'int', 'min': 0, 'max': 65535}, 'dimensions': [10980, 10980], 'crs': 'EPSG:32634', 'crs_transform': [10, 0, 499980, 0, -10, 5600040]}, {'id': 'B3', 'data_type': {'type': 'PixelType', 'precision': 'int', 'min': 0, 'max': 65535}, 'dimensions': [10980, 10980], 'crs': 'EPSG:32634', 'crs_transform': [10, 0, 499980, 0, -10, 5600040]}, {'id': 'B4', 'data_type': {'type': 'PixelType', 'precision': 'int', 'min': 0, 'max': 65535}, 'dimensions': [10980, 10980], 'crs': 'EPSG:32634', 'crs_transform': [10, 0, 499980, 0, -10, 5600040]}, {'id': 'B5', 'data_type': {'type': 'PixelType', 'precision': 'int', 'min': 0, 'max': 65535}, 'dimensions': [5490, 5490], 'crs': 'EPSG:32634', 'crs_transform': [20, 0, 499980, 0, -20, 5600040]}, {'id': 'B6', 'data_type': {'type': 'PixelType', 'precision': 'int', 'min': 0, 'max': 65535}, 'dimensions': [5490, 5490], 'crs': 'EPSG:32634', 'crs_transform': [20, 0, 499980, 0, -20, 5600040]}, {'id': 'B7', 'data_type': {'type': 'PixelType', 'precision': 'int', 'min': 0, 'max': 65535}, 'dimensions': [5490, 5490], 'crs': 'EPSG:32634', 'crs_transform': [20, 0, 499980, 0, -20, 5600040]}, {'id': 'B8', 'data_type': {'type': 'PixelType', 'precision': 'int', 'min': 0, 'max': 65535}, 'dimensions': [10980, 10980], 'crs': 'EPSG:32634', 'crs_transform': [10, 0, 499980, 0, -10, 5600040]}, {'id': 'B8A', 'data_type': {'type': 'PixelType', 'precision': 'int', 'min': 0, 'max': 65535}, 'dimensions': [5490, 5490], 'crs': 'EPSG:32634', 'crs_transform': [20, 0, 499980, 0, -20, 5600040]}, {'id': 'B9', 'data_type': {'type': 'PixelType', 'precision': 'int', 'min': 0, 'max': 65535}, 'dimensions': [1830, 1830], 'crs': 'EPSG:32634', 'crs_transform': [60, 0, 499980, 0, -60, 5600040]}, {'id': 'B10', 'data_type': {'type': 'PixelType', 'precision': 'int', 'min': 0, 'max': 65535}, 'dimensions': [1830, 1830], 'crs': 'EPSG:32634', 'crs_transform': [60, 0, 499980, 0, -60, 5600040]}, {'id': 'B11', 'data_type': {'type': 'PixelType', 'precision': 'int', 'min': 0, 'max': 65535}, 'dimensions': [5490, 5490], 'crs': 'EPSG:32634', 'crs_transform': [20, 0, 499980, 0, -20, 5600040]}, {'id': 'B12', 'data_type': {'type': 'PixelType', 'precision': 'int', 'min': 0, 'max': 65535}, 'dimensions': [5490, 5490], 'crs': 'EPSG:32634', 'crs_transform': [20, 0, 499980, 0, -20, 5600040]}, {'id': 'QA10', 'data_type': {'type': 'PixelType', 'precision': 'int', 'min': 0, 'max': 65535}, 'dimensions': [10980, 10980], 'crs': 'EPSG:32634', 'crs_transform': [10, 0, 499980, 0, -10, 5600040]}, {'id': 'QA20', 'data_type': {'type': 'PixelType', 'precision': 'int', 'min': 0, 'max': 4294967295}, 'dimensions': [5490, 5490], 'crs': 'EPSG:32634', 'crs_transform': [20, 0, 499980, 0, -20, 5600040]}, {'id': 'QA60', 'data_type': {'type': 'PixelType', 'precision': 'int', 'min': 0, 'max': 65535}, 'dimensions': [1830, 1830], 'crs': 'EPSG:32634', 'crs_transform': [60, 0, 499980, 0, -60, 5600040]}], 'version': 1738009720521535, 'id': 'COPERNICUS/S2/20230708T093549_20230708T093841_T34UEA', 'properties': {'DATATAKE_IDENTIFIER': 'GS2B_20230708T093549_033095_N05.09', 'SPACECRAFT_NAME': 'Sentinel-2B', 'RADIO_ADD_OFFSET_B8A': -1000, 'MEAN_INCIDENCE_AZIMUTH_ANGLE_B8A': 247.577650069596, 'RADIO_ADD_OFFSET_B10': -1000, 'MEAN_SOLAR_AZIMUTH_ANGLE': 155.297149138819, 'system:footprint': {'type': 'LinearRing', 'coordinates': [[20.999577220640223, 50.552303381294436], [20.999576040141267, 50.5522921210495], [20.999584672006037, 49.56493492373849], [20.9996410594819, 49.56489344498639], [20.99968895050467, 49.56484772632123], [20.9997117924847, 49.56484494155762], [22.517589405945042, 49.55489353576452], [22.517654512070955, 49.55492928677848], [22.517725949185394, 49.55495940692163], [22.517730694276366, 49.554974140211584], [22.53324123044387, 50.04850710633158], [22.549187634450544, 50.54198671080719], [22.549131430374104, 50.5420289376212], [22.549083944346737, 50.54207529389627], [22.54906080000492, 50.54207834566268], [20.999717638146077, 50.552382096420736], [20.999652430390785, 50.552345555680276], [20.99958050859333, 50.55231440985245], [20.999577220640223, 50.552303381294436]]}, 'SOLAR_IRRADIANCE_B12': 87.75, 'SOLAR_IRRADIANCE_B10': 365.41, 'SENSOR_QUALITY': 'PASSED', 'SOLAR_IRRADIANCE_B11': 247.08, 'GENERATION_TIME': 1688812101000, 'RADIO_ADD_OFFSET_B12': -1000, 'RADIO_ADD_OFFSET_B11': -1000, 'SOLAR_IRRADIANCE_B8A': 953.93, 'FORMAT_CORRECTNESS': 'PASSED', 'CLOUD_COVERAGE_ASSESSMENT': 1.31574546866135, 'system:time_end': 1688809604826, 'SNOW_PIXEL_PERCENTAGE': 0, 'system:time_start': 1688809604826, 'RADIO_ADD_OFFSET_B1': -1000, 'RADIO_ADD_OFFSET_B2': -1000, 'DATASTRIP_ID': 'S2B_OPER_MSI_L1C_DS_2BPS_20230708T102821_S20230708T093841_N05.09', 'RADIO_ADD_OFFSET_B3': -1000, 'RADIO_ADD_OFFSET_B4': -1000, 'RADIO_ADD_OFFSET_B5': -1000, 'PROCESSING_BASELINE': '05.09', 'SENSING_ORBIT_NUMBER': 36, 'RADIO_ADD_OFFSET_B6': -1000, 'RADIO_ADD_OFFSET_B7': -1000, 'SENSING_ORBIT_DIRECTION': 'DESCENDING', 'GENERAL_QUALITY': 'PASSED', 'GRANULE_ID': 'L1C_T34UEA_A033095_20230708T093841', 'REFLECTANCE_CONVERSION_CORRECTION': 0.967364039824008, 'MEAN_INCIDENCE_AZIMUTH_ANGLE_B8': 250.670778732668, 'DATATAKE_TYPE': 'INS-NOBS', 'MEAN_INCIDENCE_AZIMUTH_ANGLE_B9': 247.302529853578, 'MEAN_INCIDENCE_AZIMUTH_ANGLE_B6': 247.98282917743, 'MEAN_INCIDENCE_AZIMUTH_ANGLE_B7': 247.745442697353, 'MEAN_INCIDENCE_AZIMUTH_ANGLE_B4': 248.768394505161, 'MEAN_INCIDENCE_ZENITH_ANGLE_B1': 4.22513150616666, 'RADIO_ADD_OFFSET_B8': -1000, 'MEAN_INCIDENCE_AZIMUTH_ANGLE_B5': 248.364794553504, 'RADIOMETRIC_QUALITY': 'PASSED', 'RADIO_ADD_OFFSET_B9': -1000, 'MEAN_INCIDENCE_AZIMUTH_ANGLE_B2': 251.789754196116, 'MEAN_INCIDENCE_AZIMUTH_ANGLE_B3': 249.827748441687, 'MEAN_INCIDENCE_ZENITH_ANGLE_B5': 3.94226096217533, 'MEAN_INCIDENCE_AZIMUTH_ANGLE_B1': 247.807790937328, 'MEAN_INCIDENCE_ZENITH_ANGLE_B4': 3.88135952518426, 'MEAN_INCIDENCE_ZENITH_ANGLE_B3': 3.78086463203343, 'MEAN_INCIDENCE_ZENITH_ANGLE_B2': 3.69132310063034, 'MEAN_INCIDENCE_ZENITH_ANGLE_B9': 4.30050182832356, 'MEAN_INCIDENCE_ZENITH_ANGLE_B8': 3.73322504529539, 'MEAN_INCIDENCE_ZENITH_ANGLE_B7': 4.07234593936882, 'MEAN_INCIDENCE_ZENITH_ANGLE_B6': 4.00374928531586, 'MEAN_SOLAR_ZENITH_ANGLE': 29.3538569117613, 'MEAN_INCIDENCE_ZENITH_ANGLE_B8A': 4.14414656998666, 'MGRS_TILE': '34UEA', 'CLOUDY_PIXEL_PERCENTAGE': 1.31574546866135, 'PRODUCT_ID': 'S2B_MSIL1C_20230708T093549_N0509_R036_T34UEA_20230708T102821', 'MEAN_INCIDENCE_ZENITH_ANGLE_B10': 3.85149533253591, 'SOLAR_IRRADIANCE_B9': 817.58, 'DEGRADED_MSI_DATA_PERCENTAGE': 0.0049, 'MEAN_INCIDENCE_ZENITH_ANGLE_B11': 3.99434268440164, 'MEAN_INCIDENCE_ZENITH_ANGLE_B12': 4.1616166772027, 'SOLAR_IRRADIANCE_B6': 1291.13, 'MEAN_INCIDENCE_AZIMUTH_ANGLE_B10': 248.906455875948, 'SOLAR_IRRADIANCE_B5': 1425.78, 'MEAN_INCIDENCE_AZIMUTH_ANGLE_B11': 247.930339212793, 'SOLAR_IRRADIANCE_B8': 1041.28, 'MEAN_INCIDENCE_AZIMUTH_ANGLE_B12': 247.560988517915, 'SOLAR_IRRADIANCE_B7': 1175.57, 'SOLAR_IRRADIANCE_B2': 1959.75, 'SOLAR_IRRADIANCE_B1': 1874.3, 'SOLAR_IRRADIANCE_B4': 1512.79, 'GEOMETRIC_QUALITY': 'PASSED', 'SOLAR_IRRADIANCE_B3': 1824.93, 'system:asset_size': 1318644576, 'system:index': '20230708T093549_20230708T093841_T34UEA'}}\n"
     ]
    }
   ],
   "source": [
    "# TODO: Retrieve Sentinel-2 images for the selected dates.\n",
    "\n",
    "\n",
    "# Define the Area of Interest (AOI)\n",
    "aoi = ee.Geometry.Rectangle([21.50, 50.45, 21.37, 50.57])\n",
    "\n",
    "# Define the dates\n",
    "start_date1 = '2023-04-01'\n",
    "end_date1 = '2023-04-30'\n",
    "\n",
    "start_date2 = '2023-07-01'\n",
    "end_date2 = '2023-07-30'\n",
    "\n",
    "# Function to retrieve Sentinel-2 imagery for a given date range\n",
    "def get_sentinel_image(start_date, end_date):\n",
    "    collection = ee.ImageCollection('COPERNICUS/S2') \\\n",
    "        .filterDate(start_date, end_date) \\\n",
    "        .filterBounds(aoi) \\\n",
    "        .filter(ee.Filter.lt('CLOUDY_PIXEL_PERCENTAGE', 20)) \\\n",
    "        .sort('CLOUDY_PIXEL_PERCENTAGE')  # get least cloudy first\n",
    "\n",
    "    image = collection.first()\n",
    "    return image\n",
    "\n",
    "# Retrieve images\n",
    "image1 = get_sentinel_image(start_date1, end_date1)\n",
    "image2 = get_sentinel_image(start_date2, end_date2)\n",
    "\n",
    "\n",
    "# Check and print info about image1\n",
    "if image1:\n",
    "    print(\"Image 1 (April) found:\")\n",
    "    print(image1.getInfo())\n",
    "else:\n",
    "    print(\"No Sentinel-2 image found for April 2023 in the specified AOI.\")\n",
    "\n",
    "# Check and print info about image2\n",
    "if image2:\n",
    "    print(\"Image 2 (July) found:\")\n",
    "    print(image2.getInfo())\n",
    "else:\n",
    "    print(\"No Sentinel-2 image found for July 2023 in the specified AOI.\")\n",
    "\n"
   ]
  },
  {
   "cell_type": "markdown",
   "id": "e0d5a72c",
   "metadata": {},
   "source": [
    "## Task 3: Calculate NDVI\n",
    "Calculate the Normalized Difference Vegetation Index (NDVI) for both images."
   ]
  },
  {
   "cell_type": "code",
   "execution_count": 5,
   "id": "5454dd10",
   "metadata": {},
   "outputs": [
    {
     "name": "stdout",
     "output_type": "stream",
     "text": [
      "NDVI for image 1 (April): {'type': 'Image', 'bands': [{'id': 'NDVI', 'data_type': {'type': 'PixelType', 'precision': 'float', 'min': -1, 'max': 1}, 'dimensions': [10980, 10980], 'crs': 'EPSG:32634', 'crs_transform': [10, 0, 499980, 0, -10, 5700000]}], 'properties': {'system:footprint': {'type': 'LinearRing', 'coordinates': [[20.99956890092786, 51.451193482176784], [20.999567835427474, 51.4511822014245], [20.9995768556313, 50.463978265532454], [20.999634273562346, 50.463936841780416], [20.99968311115427, 50.46389109574483], [20.999706400920566, 50.46388827411133], [22.546157749046532, 50.45361687530687], [22.546223994951678, 50.45365254195612], [22.54629680227282, 50.453682718359325], [22.546301790673887, 50.45369739928983], [22.562618317859577, 50.94714694682947], [22.579400707911027, 51.440543103159456], [22.57934343284006, 51.44058534556074], [22.579295195634565, 51.44063174777768], [22.57927159613873, 51.44063484325241], [20.99971219774691, 51.4512721734479], [20.999645607825425, 51.451235610393724], [20.999572239562458, 51.45120450526146], [20.99956890092786, 51.451193482176784]]}}}\n",
      "NDVI for image 2 (July): {'type': 'Image', 'bands': [{'id': 'NDVI', 'data_type': {'type': 'PixelType', 'precision': 'float', 'min': -1, 'max': 1}, 'dimensions': [10980, 10980], 'crs': 'EPSG:32634', 'crs_transform': [10, 0, 499980, 0, -10, 5600040]}], 'properties': {'system:footprint': {'type': 'LinearRing', 'coordinates': [[20.999577220640223, 50.552303381294436], [20.999576040141267, 50.5522921210495], [20.999584672006037, 49.56493492373849], [20.9996410594819, 49.56489344498639], [20.99968895050467, 49.56484772632123], [20.9997117924847, 49.56484494155762], [22.517589405945042, 49.55489353576452], [22.517654512070955, 49.55492928677848], [22.517725949185394, 49.55495940692163], [22.517730694276366, 49.554974140211584], [22.53324123044387, 50.04850710633158], [22.549187634450544, 50.54198671080719], [22.549131430374104, 50.5420289376212], [22.549083944346737, 50.54207529389627], [22.54906080000492, 50.54207834566268], [20.999717638146077, 50.552382096420736], [20.999652430390785, 50.552345555680276], [20.99958050859333, 50.55231440985245], [20.999577220640223, 50.552303381294436]]}}}\n"
     ]
    }
   ],
   "source": [
    "# TODO: Calc# TODO: Calculate NDVI for both images (Choose the appropriate S-2 bands).\n",
    "\n",
    "# Function to calculate NDVI\n",
    "def calculate_ndvi(image):\n",
    "    ndvi = image.normalizedDifference(['B8', 'B4']).rename('NDVI')\n",
    "    return ndvi\n",
    "\n",
    "# Calculate NDVI for both images\n",
    "ndvi1 = calculate_ndvi(image1)\n",
    "ndvi2 = calculate_ndvi(image2)\n",
    "\n",
    "# Optional: Print the image info\n",
    "print(\"NDVI for image 1 (April):\", ndvi1.getInfo())\n",
    "print(\"NDVI for image 2 (July):\", ndvi2.getInfo())\n"
   ]
  },
  {
   "cell_type": "markdown",
   "id": "92023a75",
   "metadata": {},
   "source": [
    "## Task 4: Compare NDVI\n",
    "Display both NDVI indices on the map and calculate and visualize their difference."
   ]
  },
  {
   "cell_type": "code",
   "execution_count": 6,
   "id": "bc2f4d29",
   "metadata": {},
   "outputs": [
    {
     "data": {
      "application/vnd.jupyter.widget-view+json": {
       "model_id": "7a67566cb6bc46b4a46da6fcc0832f6b",
       "version_major": 2,
       "version_minor": 0
      },
      "text/plain": [
       "Map(center=[52.75, 18.25], controls=(WidgetControl(options=['position', 'transparent_bg'], widget=SearchDataGU…"
      ]
     },
     "execution_count": 6,
     "metadata": {},
     "output_type": "execute_result"
    }
   ],
   "source": [
    "# TODO: Compare NDVI, visualize the differences, and analyze vegetation changes.\n",
    "\n",
    "# Calculate NDVI difference: NDVI (July) - NDVI (April)\n",
    "ndvi_diff = ndvi2.subtract(ndvi1).rename('NDVI_Difference')\n",
    "\n",
    "# Optional visualization parameters\n",
    "ndvi_vis_params = {\n",
    "    'min': -1,\n",
    "    'max': 1,\n",
    "    'palette': ['red', 'yellow', 'green']\n",
    "}\n",
    "\n",
    "# Display on map (if using geemap or folium in Colab or Jupyter)\n",
    "import geemap\n",
    "Map = geemap.Map(center=[52.75, 18.25], zoom=10)\n",
    "\n",
    "Map.addLayer(ndvi1, ndvi_vis_params, 'NDVI - April')\n",
    "Map.addLayer(ndvi2, ndvi_vis_params, 'NDVI - July')\n",
    "Map.addLayer(ndvi_diff, {'min': -0.5, 'max': 0.5, 'palette': ['red', 'white', 'green']}, 'NDVI Difference')\n",
    "\n",
    "Map.add_colorbar(vis_params=ndvi_vis_params, label='NDVI', layer_name='NDVI Difference')\n",
    "Map"
   ]
  },
  {
   "cell_type": "markdown",
   "id": "22cab30e",
   "metadata": {},
   "source": [
    "## Task 5: Interpret the Results\n",
    "Briefly describe the meaning of the observed NDVI changes within the analyzed period."
   ]
  },
  {
   "cell_type": "code",
   "execution_count": null,
   "id": "c5d0d661",
   "metadata": {},
   "outputs": [],
   "source": [
    "# TODO: Provide your interpretation here in cell\n"
   ]
  },
  {
   "cell_type": "markdown",
   "id": "560f3bf7",
   "metadata": {},
   "source": [
    "Here you have a difference map of NDVI between April and July 2023. The red areas indicate a decrease in vegetation health, while the green areas show an increase.Most of the green areas cover new forest areaas and new fields. The white areas represent no significant change, for ex. water area.  This information can be useful for monitoring vegetation changes over time and identifying areas that may require further investigation or management actions."
   ]
  },
  {
   "cell_type": "markdown",
   "id": "c968b686",
   "metadata": {},
   "source": [
    "## Task 6: False Color Composite for Vegetation Condition Assessment\n",
    "Add false-color composites (NIR, RED, GREEN) for both dates to the map for visual assessment of vegetation condition."
   ]
  },
  {
   "cell_type": "code",
   "execution_count": 7,
   "id": "f6c53f4d",
   "metadata": {},
   "outputs": [
    {
     "data": {
      "text/html": [
       "\n",
       "            <style>\n",
       "                .geemap-dark {\n",
       "                    --jp-widgets-color: white;\n",
       "                    --jp-widgets-label-color: white;\n",
       "                    --jp-ui-font-color1: white;\n",
       "                    --jp-layout-color2: #454545;\n",
       "                    background-color: #383838;\n",
       "                }\n",
       "\n",
       "                .geemap-dark .jupyter-button {\n",
       "                    --jp-layout-color3: #383838;\n",
       "                }\n",
       "\n",
       "                .geemap-colab {\n",
       "                    background-color: var(--colab-primary-surface-color, white);\n",
       "                }\n",
       "\n",
       "                .geemap-colab .jupyter-button {\n",
       "                    --jp-layout-color3: var(--colab-primary-surface-color, white);\n",
       "                }\n",
       "            </style>\n",
       "            "
      ],
      "text/plain": [
       "<IPython.core.display.HTML object>"
      ]
     },
     "metadata": {},
     "output_type": "display_data"
    },
    {
     "data": {
      "application/vnd.jupyter.widget-view+json": {
       "model_id": "3a70344b6cc14ab3868cacc590a0e390",
       "version_major": 2,
       "version_minor": 0
      },
      "text/plain": [
       "Map(center=[52.75, 18.25], controls=(WidgetControl(options=['position', 'transparent_bg'], widget=SearchDataGU…"
      ]
     },
     "execution_count": 7,
     "metadata": {},
     "output_type": "execute_result"
    }
   ],
   "source": [
    "# TODO: Create a false-color composite (NIR, RED, GREEN) and add it to the map\n",
    "vegetation_viz = {'bands': ['B8', 'B4', 'B3'], 'min': 0, 'max': 4000}\n",
    "# Add Sentinel-2 images for both dates to the map using this composite.\n",
    "\n",
    "import geemap\n",
    "\n",
    "# Define visualization parameters\n",
    "vegetation_viz = {\n",
    "    'bands': ['B8', 'B4', 'B3'],  # NIR, RED, GREEN\n",
    "    'min': 0,\n",
    "    'max': 4000\n",
    "}\n",
    "\n",
    "# Create interactive map\n",
    "Map = geemap.Map(center=[52.75, 18.25], zoom=10)\n",
    "\n",
    "# Add images to the map with false-color composite\n",
    "if image1:\n",
    "    Map.addLayer(image1, vegetation_viz, 'False Color - April 2023')\n",
    "\n",
    "if image2:\n",
    "    Map.addLayer(image2, vegetation_viz, 'False Color - July 2023')\n",
    "\n",
    "\n",
    "\n",
    "Map"
   ]
  }
 ],
 "metadata": {
  "kernelspec": {
   "display_name": "eo_lab",
   "language": "python",
   "name": "python3"
  },
  "language_info": {
   "codemirror_mode": {
    "name": "ipython",
    "version": 3
   },
   "file_extension": ".py",
   "mimetype": "text/x-python",
   "name": "python",
   "nbconvert_exporter": "python",
   "pygments_lexer": "ipython3",
   "version": "3.9.21"
  }
 },
 "nbformat": 4,
 "nbformat_minor": 5
}
