{
 "cells": [
  {
   "cell_type": "markdown",
   "id": "c115edb2",
   "metadata": {},
   "source": [
    "# Exercise 2: Vegetation Index Analysis\n",
    "In this exercise, you will analyze vegetation changes within one growing season in a selected agricultural region (Kujawy, Poland)."
   ]
  },
  {
   "cell_type": "markdown",
   "id": "1761c7f1",
   "metadata": {},
   "source": [
    "## Task 1: Define AOI\n",
    "Create an Area of Interest (AOI) using the coordinates provided below."
   ]
  },
  {
   "cell_type": "code",
   "execution_count": null,
   "id": "9f4c98f3",
   "metadata": {},
   "outputs": [],
   "source": [
    "# TODO: Define AOI\n",
    "aoi = ee.Geometry.Rectangle([18.0, 52.5, 18.5, 53.0])"
   ]
  },
  {
   "cell_type": "markdown",
   "id": "44ec57e7",
   "metadata": {},
   "source": [
    "## Task 2: Retrieve Sentinel-2 Imagery\n",
    "Retrieve two Sentinel-2 satellite images from the following dates: 2023-04-01 and 2023-07-01."
   ]
  },
  {
   "cell_type": "code",
   "execution_count": null,
   "id": "cd32529c",
   "metadata": {},
   "outputs": [],
   "source": [
    "# TODO: Retrieve Sentinel-2 images for the selected dates."
   ]
  },
  {
   "cell_type": "markdown",
   "id": "e0d5a72c",
   "metadata": {},
   "source": [
    "## Task 3: Calculate NDVI\n",
    "Calculate the Normalized Difference Vegetation Index (NDVI) for both images."
   ]
  },
  {
   "cell_type": "code",
   "execution_count": null,
   "id": "5454dd10",
   "metadata": {},
   "outputs": [],
   "source": [
    "# TODO: Calculate NDVI for both images (Choose the appropriate S-2 bands)."
   ]
  },
  {
   "cell_type": "markdown",
   "id": "92023a75",
   "metadata": {},
   "source": [
    "## Task 4: Compare NDVI\n",
    "Display both NDVI indices on the map and calculate and visualize their difference."
   ]
  },
  {
   "cell_type": "code",
   "execution_count": null,
   "id": "bc2f4d29",
   "metadata": {},
   "outputs": [],
   "source": [
    "# TODO: Compare NDVI, visualize the differences, and analyze vegetation changes."
   ]
  },
  {
   "cell_type": "markdown",
   "id": "22cab30e",
   "metadata": {},
   "source": [
    "## Task 5: Interpret the Results\n",
    "Briefly describe the meaning of the observed NDVI changes within the analyzed period."
   ]
  },
  {
   "cell_type": "code",
   "execution_count": null,
   "id": "c5d0d661",
   "metadata": {},
   "outputs": [],
   "source": [
    "# TODO: Provide your interpretation here in a Markdown cell."
   ]
  },
  {
   "cell_type": "markdown",
   "id": "c968b686",
   "metadata": {},
   "source": [
    "## Task 6: False Color Composite for Vegetation Condition Assessment\n",
    "Add false-color composites (NIR, RED, GREEN) for both dates to the map for visual assessment of vegetation condition."
   ]
  },
  {
   "cell_type": "code",
   "execution_count": null,
   "id": "f6c53f4d",
   "metadata": {},
   "outputs": [],
   "source": [
    "# TODO: Create a false-color composite (NIR, RED, GREEN) and add it to the map\n",
    "vegetation_viz = {'bands': ['B8', 'B4', 'B3'], 'min': 0, 'max': 4000}\n",
    "# Add Sentinel-2 images for both dates to the map using this composite."
   ]
  }
 ],
 "metadata": {
  "language_info": {
   "name": "python"
  }
 },
 "nbformat": 4,
 "nbformat_minor": 5
}
