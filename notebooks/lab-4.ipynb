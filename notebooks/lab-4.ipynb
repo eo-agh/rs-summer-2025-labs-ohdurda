{
 "cells": [
  {
   "cell_type": "markdown",
   "id": "d3ac2b14",
   "metadata": {},
   "source": [
    "# Lab 4: Urban Heat Island Detection using Thermal Satellite Imagery"
   ]
  },
  {
   "cell_type": "markdown",
   "id": "94a259ca",
   "metadata": {},
   "source": [
    "## Goal\n",
    "In this exercise, you will:\n",
    "1. Select and compare two thermal satellite images from Kraków (or another city that has recently undergone intensive, thoughtless concrete development) – one from **2013** and one from **2024**.\n",
    "2. Each image must be acquired on a **hot summer day** (T > 27°C based on IMGW meteorological data).\n",
    "3. Images must have **low cloud cover** (< 20%).\n",
    "4. Visualize thermal data and analyze surface temperature differences (Urban Heat Island effect)."
   ]
  },
  {
   "cell_type": "markdown",
   "id": "cfa7c6b9",
   "metadata": {},
   "source": [
    "## Task 1: Area of Interest (AOI)\n",
    "- Define an AOI over the Reduta Street area in Kraków.\n",
    "- Use `ee.Geometry.Polygon` or `ee.Geometry.Rectangle`."
   ]
  },
  {
   "cell_type": "code",
   "execution_count": 1,
   "id": "ca72fd7a",
   "metadata": {},
   "outputs": [
    {
     "data": {
      "text/html": [
       "<p>To authorize access needed by Earth Engine, open the following\n",
       "        URL in a web browser and follow the instructions:</p>\n",
       "        <p><a href=https://code.earthengine.google.com/client-auth?scopes=https%3A//www.googleapis.com/auth/earthengine%20https%3A//www.googleapis.com/auth/cloud-platform%20https%3A//www.googleapis.com/auth/devstorage.full_control&request_id=pgjg0rDTTRcxXXY6YST5QAEu5ukKdncNOvIVh_8sM54&tc=_dFZFgE3eXHf2u5_FgAg-6ehT5_usTm_o7Q60nWdbHc&cc=tN7OYDbuSEz3X7HvzVGJTyjmdUY4VwoUkjxZdy-4If0>https://code.earthengine.google.com/client-auth?scopes=https%3A//www.googleapis.com/auth/earthengine%20https%3A//www.googleapis.com/auth/cloud-platform%20https%3A//www.googleapis.com/auth/devstorage.full_control&request_id=pgjg0rDTTRcxXXY6YST5QAEu5ukKdncNOvIVh_8sM54&tc=_dFZFgE3eXHf2u5_FgAg-6ehT5_usTm_o7Q60nWdbHc&cc=tN7OYDbuSEz3X7HvzVGJTyjmdUY4VwoUkjxZdy-4If0</a></p>\n",
       "        <p>The authorization workflow will generate a code, which you should paste in the box below.</p>\n",
       "        "
      ],
      "text/plain": [
       "<IPython.core.display.HTML object>"
      ]
     },
     "metadata": {},
     "output_type": "display_data"
    },
    {
     "name": "stdout",
     "output_type": "stream",
     "text": [
      "\n",
      "Successfully saved authorization token.\n",
      "{'type': 'Polygon', 'coordinates': [[[-3.70239, 40.04233], [-3.52386, 40.04233], [-3.52386, 40.80757], [-3.70239, 40.80757], [-3.70239, 40.04233]]]}\n"
     ]
    }
   ],
   "source": [
    "import ee\n",
    "\n",
    "ee.Authenticate()\n",
    "ee.Initialize(project='ee-martynadurda')\n",
    "\n",
    "aoi = ee.Geometry.Rectangle([-3.70239, 40.80757, -3.52386, 40.04233])  # cords of madrid bb\n",
    "\n",
    "print(aoi.getInfo())"
   ]
  },
  {
   "cell_type": "markdown",
   "id": "7817c68e",
   "metadata": {},
   "source": [
    "## Task 2: Download and Analyze IMGW Meteorological Data\n",
    "- Visit: [IMGW Archive](https://danepubliczne.imgw.pl/data/dane_pomiarowo_obserwacyjne/)\n",
    "- Navigate to:\n",
    "  - `dane_meteorologiczne/dobowe/synop/2013/`\n",
    "  - `dane_meteorologiczne/dobowe/synop/2024/`\n",
    "- Download `s_d_tmax.csv` for both years.\n",
    "- Filter the rows for **station ID 12566 (e.g. Kraków-Balice)**.\n",
    "- Identify days in **July or August** with **TMAX > 27°C**."
   ]
  },
  {
   "cell_type": "code",
   "execution_count": 2,
   "id": "6a110649",
   "metadata": {},
   "outputs": [
    {
     "name": "stdout",
     "output_type": "stream",
     "text": [
      "Collecting fsspec\n",
      "  Downloading fsspec-2025.3.2-py3-none-any.whl.metadata (11 kB)\n",
      "Downloading fsspec-2025.3.2-py3-none-any.whl (194 kB)\n",
      "Installing collected packages: fsspec\n",
      "Successfully installed fsspec-2025.3.2\n",
      "Note: you may need to restart the kernel to use updated packages.\n"
     ]
    }
   ],
   "source": [
    "%pip install fsspec"
   ]
  },
  {
   "cell_type": "code",
   "execution_count": null,
   "id": "6512f43a",
   "metadata": {},
   "outputs": [],
   "source": []
  },
  {
   "cell_type": "markdown",
   "id": "c7f064e5",
   "metadata": {},
   "source": [
    "## Task 3: Select Landsat 8 Images Matching These Dates\n",
    "- In Earth Engine, use `LANDSAT/LC08/C02/T1_L2` collection.\n",
    "- Apply filters:\n",
    "  - `.filterBounds(aoi)`\n",
    "  - `.filterDate()` for the matching day\n",
    "  - `.filterMetadata('CLOUD_COVER', 'less_than', 20)`\n",
    "- Try to find **one image from 2013** and **one image from 2024** that match your hot days list."
   ]
  },
  {
   "cell_type": "code",
   "execution_count": 5,
   "id": "dcf21f7f",
   "metadata": {},
   "outputs": [
    {
     "data": {
      "text/html": [
       "\n",
       "            <style>\n",
       "                .geemap-dark {\n",
       "                    --jp-widgets-color: white;\n",
       "                    --jp-widgets-label-color: white;\n",
       "                    --jp-ui-font-color1: white;\n",
       "                    --jp-layout-color2: #454545;\n",
       "                    background-color: #383838;\n",
       "                }\n",
       "\n",
       "                .geemap-dark .jupyter-button {\n",
       "                    --jp-layout-color3: #383838;\n",
       "                }\n",
       "\n",
       "                .geemap-colab {\n",
       "                    background-color: var(--colab-primary-surface-color, white);\n",
       "                }\n",
       "\n",
       "                .geemap-colab .jupyter-button {\n",
       "                    --jp-layout-color3: var(--colab-primary-surface-color, white);\n",
       "                }\n",
       "            </style>\n",
       "            "
      ],
      "text/plain": [
       "<IPython.core.display.HTML object>"
      ]
     },
     "metadata": {},
     "output_type": "display_data"
    },
    {
     "name": "stdout",
     "output_type": "stream",
     "text": [
      "{'type': 'Image', 'bands': [{'id': 'SR_B1', 'data_type': {'type': 'PixelType', 'precision': 'int', 'min': 0, 'max': 65535}, 'dimensions': [526, 2836], 'origin': [4169, 2182], 'crs': 'EPSG:32630', 'crs_transform': [30, 0, 314985, 0, -30, 4583115]}, {'id': 'SR_B2', 'data_type': {'type': 'PixelType', 'precision': 'int', 'min': 0, 'max': 65535}, 'dimensions': [526, 2836], 'origin': [4169, 2182], 'crs': 'EPSG:32630', 'crs_transform': [30, 0, 314985, 0, -30, 4583115]}, {'id': 'SR_B3', 'data_type': {'type': 'PixelType', 'precision': 'int', 'min': 0, 'max': 65535}, 'dimensions': [526, 2836], 'origin': [4169, 2182], 'crs': 'EPSG:32630', 'crs_transform': [30, 0, 314985, 0, -30, 4583115]}, {'id': 'SR_B4', 'data_type': {'type': 'PixelType', 'precision': 'int', 'min': 0, 'max': 65535}, 'dimensions': [526, 2836], 'origin': [4169, 2182], 'crs': 'EPSG:32630', 'crs_transform': [30, 0, 314985, 0, -30, 4583115]}, {'id': 'SR_B5', 'data_type': {'type': 'PixelType', 'precision': 'int', 'min': 0, 'max': 65535}, 'dimensions': [526, 2836], 'origin': [4169, 2182], 'crs': 'EPSG:32630', 'crs_transform': [30, 0, 314985, 0, -30, 4583115]}, {'id': 'SR_B6', 'data_type': {'type': 'PixelType', 'precision': 'int', 'min': 0, 'max': 65535}, 'dimensions': [526, 2836], 'origin': [4169, 2182], 'crs': 'EPSG:32630', 'crs_transform': [30, 0, 314985, 0, -30, 4583115]}, {'id': 'SR_B7', 'data_type': {'type': 'PixelType', 'precision': 'int', 'min': 0, 'max': 65535}, 'dimensions': [526, 2836], 'origin': [4169, 2182], 'crs': 'EPSG:32630', 'crs_transform': [30, 0, 314985, 0, -30, 4583115]}, {'id': 'SR_QA_AEROSOL', 'data_type': {'type': 'PixelType', 'precision': 'int', 'min': 0, 'max': 255}, 'dimensions': [526, 2836], 'origin': [4169, 2182], 'crs': 'EPSG:32630', 'crs_transform': [30, 0, 314985, 0, -30, 4583115]}, {'id': 'ST_B10', 'data_type': {'type': 'PixelType', 'precision': 'int', 'min': 0, 'max': 65535}, 'dimensions': [526, 2836], 'origin': [4169, 2182], 'crs': 'EPSG:32630', 'crs_transform': [30, 0, 314985, 0, -30, 4583115]}, {'id': 'ST_ATRAN', 'data_type': {'type': 'PixelType', 'precision': 'int', 'min': -32768, 'max': 32767}, 'dimensions': [526, 2836], 'origin': [4169, 2182], 'crs': 'EPSG:32630', 'crs_transform': [30, 0, 314985, 0, -30, 4583115]}, {'id': 'ST_CDIST', 'data_type': {'type': 'PixelType', 'precision': 'int', 'min': -32768, 'max': 32767}, 'dimensions': [526, 2836], 'origin': [4169, 2182], 'crs': 'EPSG:32630', 'crs_transform': [30, 0, 314985, 0, -30, 4583115]}, {'id': 'ST_DRAD', 'data_type': {'type': 'PixelType', 'precision': 'int', 'min': -32768, 'max': 32767}, 'dimensions': [526, 2836], 'origin': [4169, 2182], 'crs': 'EPSG:32630', 'crs_transform': [30, 0, 314985, 0, -30, 4583115]}, {'id': 'ST_EMIS', 'data_type': {'type': 'PixelType', 'precision': 'int', 'min': -32768, 'max': 32767}, 'dimensions': [526, 2836], 'origin': [4169, 2182], 'crs': 'EPSG:32630', 'crs_transform': [30, 0, 314985, 0, -30, 4583115]}, {'id': 'ST_EMSD', 'data_type': {'type': 'PixelType', 'precision': 'int', 'min': -32768, 'max': 32767}, 'dimensions': [526, 2836], 'origin': [4169, 2182], 'crs': 'EPSG:32630', 'crs_transform': [30, 0, 314985, 0, -30, 4583115]}, {'id': 'ST_QA', 'data_type': {'type': 'PixelType', 'precision': 'int', 'min': -32768, 'max': 32767}, 'dimensions': [526, 2836], 'origin': [4169, 2182], 'crs': 'EPSG:32630', 'crs_transform': [30, 0, 314985, 0, -30, 4583115]}, {'id': 'ST_TRAD', 'data_type': {'type': 'PixelType', 'precision': 'int', 'min': -32768, 'max': 32767}, 'dimensions': [526, 2836], 'origin': [4169, 2182], 'crs': 'EPSG:32630', 'crs_transform': [30, 0, 314985, 0, -30, 4583115]}, {'id': 'ST_URAD', 'data_type': {'type': 'PixelType', 'precision': 'int', 'min': -32768, 'max': 32767}, 'dimensions': [526, 2836], 'origin': [4169, 2182], 'crs': 'EPSG:32630', 'crs_transform': [30, 0, 314985, 0, -30, 4583115]}, {'id': 'QA_PIXEL', 'data_type': {'type': 'PixelType', 'precision': 'int', 'min': 0, 'max': 65535}, 'dimensions': [526, 2836], 'origin': [4169, 2182], 'crs': 'EPSG:32630', 'crs_transform': [30, 0, 314985, 0, -30, 4583115]}, {'id': 'QA_RADSAT', 'data_type': {'type': 'PixelType', 'precision': 'int', 'min': 0, 'max': 65535}, 'dimensions': [526, 2836], 'origin': [4169, 2182], 'crs': 'EPSG:32630', 'crs_transform': [30, 0, 314985, 0, -30, 4583115]}], 'version': 1629853187583495, 'id': 'LANDSAT/LC08/C02/T1_L2/LC08_201032_20130802', 'properties': {'system:footprint': {'type': 'Polygon', 'coordinates': [[[-3.7023900000000003, 40.04233], [-3.52386, 40.04233], [-3.52386, 40.80756999999999], [-3.7023899999999994, 40.80757], [-3.7023900000000003, 40.04233]]]}, 'DATA_SOURCE_ELEVATION': 'GLS2000', 'WRS_TYPE': 2, 'REFLECTANCE_ADD_BAND_1': -0.2, 'REFLECTANCE_ADD_BAND_2': -0.2, 'DATUM': 'WGS84', 'REFLECTANCE_ADD_BAND_3': -0.2, 'REFLECTANCE_ADD_BAND_4': -0.2, 'REFLECTANCE_ADD_BAND_5': -0.2, 'REFLECTANCE_ADD_BAND_6': -0.2, 'REFLECTANCE_ADD_BAND_7': -0.2, 'REFLECTIVE_SAMPLES': 7781, 'GROUND_CONTROL_POINTS_VERSION': 5, 'SUN_AZIMUTH': 135.31840024, 'DATA_SOURCE_TIRS_STRAY_LIGHT_CORRECTION': 'TIRS', 'UTM_ZONE': 30, 'DATE_ACQUIRED': '2013-08-02', 'ELLIPSOID': 'WGS84', 'system:time_end': 1375441055150, 'DATA_SOURCE_PRESSURE': 'Calculated', 'LANDSAT_PRODUCT_ID': 'LC08_L2SP_201032_20130802_20200912_02_T1', 'STATION_ID': 'LGN', 'TEMPERATURE_ADD_BAND_ST_B10': 149, 'DATA_SOURCE_REANALYSIS': 'GEOS-5 FP-IT', 'REFLECTANCE_MULT_BAND_7': 2.75e-05, 'system:time_start': 1375441055150, 'REFLECTANCE_MULT_BAND_6': 2.75e-05, 'L1_PROCESSING_LEVEL': 'L1TP', 'PROCESSING_SOFTWARE_VERSION': 'LPGS_15.3.1c', 'L1_DATE_PRODUCT_GENERATED': '2020-09-12T17:38:50Z', 'ORIENTATION': 'NORTH_UP', 'REFLECTANCE_MULT_BAND_1': 2.75e-05, 'WRS_ROW': 32, 'REFLECTANCE_MULT_BAND_3': 2.75e-05, 'REFLECTANCE_MULT_BAND_2': 2.75e-05, 'TARGET_WRS_ROW': 32, 'REFLECTANCE_MULT_BAND_5': 2.75e-05, 'REFLECTANCE_MULT_BAND_4': 2.75e-05, 'THERMAL_LINES': 7911, 'TIRS_SSM_POSITION_STATUS': 'NOMINAL', 'GRID_CELL_SIZE_THERMAL': 30, 'IMAGE_QUALITY_TIRS': 9, 'TRUNCATION_OLI': 'UPPER', 'NADIR_OFFNADIR': 'NADIR', 'CLOUD_COVER': 0.22, 'REQUEST_ID': 'L2', 'EARTH_SUN_DISTANCE': 1.0148007, 'GEOMETRIC_RMSE_VERIFY': 2.348, 'TIRS_SSM_MODEL': 'ACTUAL', 'COLLECTION_CATEGORY': 'T1', 'SCENE_CENTER_TIME': '10:57:35.1508810Z', 'GRID_CELL_SIZE_REFLECTIVE': 30, 'SUN_ELEVATION': 60.9957328, 'ALGORITHM_SOURCE_SURFACE_TEMPERATURE': 'st_1.3.0', 'TEMPERATURE_MAXIMUM_BAND_ST_B10': 372.999941, 'CLOUD_COVER_LAND': 0.22, 'GEOMETRIC_RMSE_MODEL': 4.841, 'ROLL_ANGLE': -0.001, 'COLLECTION_NUMBER': 2, 'DATE_PRODUCT_GENERATED': 1599933004000, 'L1_REQUEST_ID': 'L2', 'DATA_SOURCE_OZONE': 'MODIS', 'SATURATION_BAND_1': 'N', 'DATA_SOURCE_WATER_VAPOR': 'MODIS', 'SATURATION_BAND_2': 'Y', 'SATURATION_BAND_3': 'Y', 'IMAGE_QUALITY_OLI': 9, 'SATURATION_BAND_4': 'Y', 'LANDSAT_SCENE_ID': 'LC82010322013214LGN01', 'SATURATION_BAND_5': 'Y', 'MAP_PROJECTION': 'UTM', 'SATURATION_BAND_6': 'Y', 'SENSOR_ID': 'OLI_TIRS', 'SATURATION_BAND_7': 'Y', 'SATURATION_BAND_8': 'N', 'WRS_PATH': 201, 'SATURATION_BAND_9': 'N', 'TARGET_WRS_PATH': 201, 'L1_PROCESSING_SOFTWARE_VERSION': 'LPGS_15.3.1c', 'TEMPERATURE_MULT_BAND_ST_B10': 0.00341802, 'L1_LANDSAT_PRODUCT_ID': 'LC08_L1TP_201032_20130802_20200912_02_T1', 'PROCESSING_LEVEL': 'L2SP', 'ALGORITHM_SOURCE_SURFACE_REFLECTANCE': 'LaSRC_1.5.0', 'GROUND_CONTROL_POINTS_MODEL': 876, 'SPACECRAFT_ID': 'LANDSAT_8', 'TEMPERATURE_MINIMUM_BAND_ST_B10': 149.003418, 'GEOMETRIC_RMSE_MODEL_Y': 3.28, 'REFLECTIVE_LINES': 7911, 'GEOMETRIC_RMSE_MODEL_X': 3.561, 'THERMAL_SAMPLES': 7781, 'system:asset_size': 987888476, 'DATA_SOURCE_AIR_TEMPERATURE': 'MODIS', 'GROUND_CONTROL_POINTS_VERIFY': 143, 'system:index': 'LC08_201032_20130802'}}\n",
      "{'type': 'Image', 'bands': [{'id': 'SR_B1', 'data_type': {'type': 'PixelType', 'precision': 'int', 'min': 0, 'max': 65535}, 'dimensions': [526, 2836], 'origin': [4179, 2182], 'crs': 'EPSG:32630', 'crs_transform': [30, 0, 314685, 0, -30, 4583115]}, {'id': 'SR_B2', 'data_type': {'type': 'PixelType', 'precision': 'int', 'min': 0, 'max': 65535}, 'dimensions': [526, 2836], 'origin': [4179, 2182], 'crs': 'EPSG:32630', 'crs_transform': [30, 0, 314685, 0, -30, 4583115]}, {'id': 'SR_B3', 'data_type': {'type': 'PixelType', 'precision': 'int', 'min': 0, 'max': 65535}, 'dimensions': [526, 2836], 'origin': [4179, 2182], 'crs': 'EPSG:32630', 'crs_transform': [30, 0, 314685, 0, -30, 4583115]}, {'id': 'SR_B4', 'data_type': {'type': 'PixelType', 'precision': 'int', 'min': 0, 'max': 65535}, 'dimensions': [526, 2836], 'origin': [4179, 2182], 'crs': 'EPSG:32630', 'crs_transform': [30, 0, 314685, 0, -30, 4583115]}, {'id': 'SR_B5', 'data_type': {'type': 'PixelType', 'precision': 'int', 'min': 0, 'max': 65535}, 'dimensions': [526, 2836], 'origin': [4179, 2182], 'crs': 'EPSG:32630', 'crs_transform': [30, 0, 314685, 0, -30, 4583115]}, {'id': 'SR_B6', 'data_type': {'type': 'PixelType', 'precision': 'int', 'min': 0, 'max': 65535}, 'dimensions': [526, 2836], 'origin': [4179, 2182], 'crs': 'EPSG:32630', 'crs_transform': [30, 0, 314685, 0, -30, 4583115]}, {'id': 'SR_B7', 'data_type': {'type': 'PixelType', 'precision': 'int', 'min': 0, 'max': 65535}, 'dimensions': [526, 2836], 'origin': [4179, 2182], 'crs': 'EPSG:32630', 'crs_transform': [30, 0, 314685, 0, -30, 4583115]}, {'id': 'SR_QA_AEROSOL', 'data_type': {'type': 'PixelType', 'precision': 'int', 'min': 0, 'max': 255}, 'dimensions': [526, 2836], 'origin': [4179, 2182], 'crs': 'EPSG:32630', 'crs_transform': [30, 0, 314685, 0, -30, 4583115]}, {'id': 'ST_B10', 'data_type': {'type': 'PixelType', 'precision': 'int', 'min': 0, 'max': 65535}, 'dimensions': [526, 2836], 'origin': [4179, 2182], 'crs': 'EPSG:32630', 'crs_transform': [30, 0, 314685, 0, -30, 4583115]}, {'id': 'ST_ATRAN', 'data_type': {'type': 'PixelType', 'precision': 'int', 'min': -32768, 'max': 32767}, 'dimensions': [526, 2836], 'origin': [4179, 2182], 'crs': 'EPSG:32630', 'crs_transform': [30, 0, 314685, 0, -30, 4583115]}, {'id': 'ST_CDIST', 'data_type': {'type': 'PixelType', 'precision': 'int', 'min': -32768, 'max': 32767}, 'dimensions': [526, 2836], 'origin': [4179, 2182], 'crs': 'EPSG:32630', 'crs_transform': [30, 0, 314685, 0, -30, 4583115]}, {'id': 'ST_DRAD', 'data_type': {'type': 'PixelType', 'precision': 'int', 'min': -32768, 'max': 32767}, 'dimensions': [526, 2836], 'origin': [4179, 2182], 'crs': 'EPSG:32630', 'crs_transform': [30, 0, 314685, 0, -30, 4583115]}, {'id': 'ST_EMIS', 'data_type': {'type': 'PixelType', 'precision': 'int', 'min': -32768, 'max': 32767}, 'dimensions': [526, 2836], 'origin': [4179, 2182], 'crs': 'EPSG:32630', 'crs_transform': [30, 0, 314685, 0, -30, 4583115]}, {'id': 'ST_EMSD', 'data_type': {'type': 'PixelType', 'precision': 'int', 'min': -32768, 'max': 32767}, 'dimensions': [526, 2836], 'origin': [4179, 2182], 'crs': 'EPSG:32630', 'crs_transform': [30, 0, 314685, 0, -30, 4583115]}, {'id': 'ST_QA', 'data_type': {'type': 'PixelType', 'precision': 'int', 'min': -32768, 'max': 32767}, 'dimensions': [526, 2836], 'origin': [4179, 2182], 'crs': 'EPSG:32630', 'crs_transform': [30, 0, 314685, 0, -30, 4583115]}, {'id': 'ST_TRAD', 'data_type': {'type': 'PixelType', 'precision': 'int', 'min': -32768, 'max': 32767}, 'dimensions': [526, 2836], 'origin': [4179, 2182], 'crs': 'EPSG:32630', 'crs_transform': [30, 0, 314685, 0, -30, 4583115]}, {'id': 'ST_URAD', 'data_type': {'type': 'PixelType', 'precision': 'int', 'min': -32768, 'max': 32767}, 'dimensions': [526, 2836], 'origin': [4179, 2182], 'crs': 'EPSG:32630', 'crs_transform': [30, 0, 314685, 0, -30, 4583115]}, {'id': 'QA_PIXEL', 'data_type': {'type': 'PixelType', 'precision': 'int', 'min': 0, 'max': 65535}, 'dimensions': [526, 2836], 'origin': [4179, 2182], 'crs': 'EPSG:32630', 'crs_transform': [30, 0, 314685, 0, -30, 4583115]}, {'id': 'QA_RADSAT', 'data_type': {'type': 'PixelType', 'precision': 'int', 'min': 0, 'max': 65535}, 'dimensions': [526, 2836], 'origin': [4179, 2182], 'crs': 'EPSG:32630', 'crs_transform': [30, 0, 314685, 0, -30, 4583115]}], 'version': 1742928247587967, 'id': 'LANDSAT/LC09/C02/T1_L2/LC09_201032_20240808', 'properties': {'system:footprint': {'type': 'Polygon', 'coordinates': [[[-3.7023900000000003, 40.04233], [-3.52386, 40.04233], [-3.52386, 40.80756999999999], [-3.7023899999999994, 40.80757], [-3.7023900000000003, 40.04233]]]}, 'DATA_SOURCE_ELEVATION': 'GLS2000', 'WRS_TYPE': 2, 'REFLECTANCE_ADD_BAND_1': -0.2, 'REFLECTANCE_ADD_BAND_2': -0.2, 'DATUM': 'WGS84', 'REFLECTANCE_ADD_BAND_3': -0.2, 'REFLECTANCE_ADD_BAND_4': -0.2, 'REFLECTANCE_ADD_BAND_5': -0.2, 'REFLECTANCE_ADD_BAND_6': -0.2, 'REFLECTANCE_ADD_BAND_7': -0.2, 'REFLECTIVE_SAMPLES': 7791, 'GROUND_CONTROL_POINTS_VERSION': 5, 'SUN_AZIMUTH': 136.49532481, 'UTM_ZONE': 30, 'DATE_ACQUIRED': '2024-08-08', 'ELLIPSOID': 'WGS84', 'system:time_end': 1723114505590, 'DATA_SOURCE_PRESSURE': 'Calculated', 'LANDSAT_PRODUCT_ID': 'LC09_L2SP_201032_20240808_20240809_02_T1', 'STATION_ID': 'LGN', 'TEMPERATURE_ADD_BAND_ST_B10': 149, 'DATA_SOURCE_REANALYSIS': 'GEOS-5 IT', 'REFLECTANCE_MULT_BAND_7': 2.75e-05, 'system:time_start': 1723114505590, 'REFLECTANCE_MULT_BAND_6': 2.75e-05, 'L1_PROCESSING_LEVEL': 'L1TP', 'PROCESSING_SOFTWARE_VERSION': 'LPGS_16.4.0', 'L1_DATE_PRODUCT_GENERATED': '2024-08-08T15:22:50Z', 'ORIENTATION': 'NORTH_UP', 'REFLECTANCE_MULT_BAND_1': 2.75e-05, 'WRS_ROW': 32, 'REFLECTANCE_MULT_BAND_3': 2.75e-05, 'REFLECTANCE_MULT_BAND_2': 2.75e-05, 'TARGET_WRS_ROW': 32, 'REFLECTANCE_MULT_BAND_5': 2.75e-05, 'REFLECTANCE_MULT_BAND_4': 2.75e-05, 'THERMAL_LINES': 7911, 'GRID_CELL_SIZE_THERMAL': 30, 'IMAGE_QUALITY_TIRS': 9, 'NADIR_OFFNADIR': 'NADIR', 'CLOUD_COVER': 0.29, 'REQUEST_ID': '1921587_00022', 'EARTH_SUN_DISTANCE': 1.013945, 'GEOMETRIC_RMSE_VERIFY': 3.185, 'COLLECTION_CATEGORY': 'T1', 'SCENE_CENTER_TIME': '10:55:05.5900930Z', 'GRID_CELL_SIZE_REFLECTIVE': 30, 'SUN_ELEVATION': 59.30851107, 'ALGORITHM_SOURCE_SURFACE_TEMPERATURE': 'st_1.5.0', 'TEMPERATURE_MAXIMUM_BAND_ST_B10': 372.999941, 'CLOUD_COVER_LAND': 0.29, 'GEOMETRIC_RMSE_MODEL': 5.408, 'ROLL_ANGLE': 0, 'COLLECTION_NUMBER': 2, 'DATE_PRODUCT_GENERATED': 1723200102000, 'L1_REQUEST_ID': '1921447_00022', 'DATA_SOURCE_OZONE': 'VIIRS', 'SATURATION_BAND_1': 'Y', 'DATA_SOURCE_WATER_VAPOR': 'VIIRS', 'SATURATION_BAND_2': 'Y', 'SATURATION_BAND_3': 'Y', 'IMAGE_QUALITY_OLI': 9, 'SATURATION_BAND_4': 'Y', 'LANDSAT_SCENE_ID': 'LC92010322024221LGN00', 'SATURATION_BAND_5': 'Y', 'MAP_PROJECTION': 'UTM', 'SATURATION_BAND_6': 'Y', 'SENSOR_ID': 'OLI_TIRS', 'SATURATION_BAND_7': 'Y', 'SATURATION_BAND_8': 'N', 'WRS_PATH': 201, 'L1_PROCESSING_SOFTWARE_VERSION': 'LPGS_16.4.0', 'SATURATION_BAND_9': 'N', 'TARGET_WRS_PATH': 201, 'L1_LANDSAT_PRODUCT_ID': 'LC09_L1TP_201032_20240808_20240808_02_T1', 'TEMPERATURE_MULT_BAND_ST_B10': 0.00341802, 'PROCESSING_LEVEL': 'L2SP', 'ALGORITHM_SOURCE_SURFACE_REFLECTANCE': 'LaSRC_1.6.0', 'GROUND_CONTROL_POINTS_MODEL': 853, 'SPACECRAFT_ID': 'LANDSAT_9', 'TEMPERATURE_MINIMUM_BAND_ST_B10': 149.003418, 'GEOMETRIC_RMSE_MODEL_Y': 3.803, 'REFLECTIVE_LINES': 7911, 'GEOMETRIC_RMSE_MODEL_X': 3.846, 'THERMAL_SAMPLES': 7791, 'system:asset_size': 1006964201, 'DATA_SOURCE_AIR_TEMPERATURE': 'VIIRS', 'GROUND_CONTROL_POINTS_VERIFY': 169, 'system:index': 'LC09_201032_20240808'}}\n"
     ]
    },
    {
     "data": {
      "application/vnd.jupyter.widget-view+json": {
       "model_id": "189122cdca4a450db0433f2b34bc2a67",
       "version_major": 2,
       "version_minor": 0
      },
      "text/plain": [
       "Map(center=[40.42425881714212, -3.6131250000012645], controls=(WidgetControl(options=['position', 'transparent…"
      ]
     },
     "execution_count": 5,
     "metadata": {},
     "output_type": "execute_result"
    }
   ],
   "source": [
    "import geemap \n",
    "start_2013 = ee.Date('2013-08-01') # dzien wczesniej bo na 08 nie ma zdj\n",
    "end_2013 = ee.Date('2013-08-15')\n",
    "start_2024 = ee.Date('2024-08-06') # zakres 26-31 bo i tak wszystko >27 stopni\n",
    "end_2024 = ee.Date('2024-08-16')\n",
    "\n",
    "image_2013 = ee.ImageCollection('LANDSAT/LC08/C02/T1_L2').filterBounds(aoi).filterDate(start_2013, end_2013).filterMetadata('CLOUD_COVER', 'less_than', 20).first()\n",
    "image_2024 = ee.ImageCollection('LANDSAT/LC09/C02/T1_L2').filterBounds(aoi).filterDate(start_2024, end_2024).filterMetadata('CLOUD_COVER', 'less_than', 20).first()\n",
    "image_2013 = image_2013.clip(aoi)\n",
    "image_2024 = image_2024.clip(aoi)\n",
    "\n",
    "print(image_2013.getInfo())\n",
    "print(image_2024.getInfo())\n",
    "\n",
    "vis_params = {\n",
    "    'bands': ['SR_B4', 'SR_B3', 'SR_B2'],\n",
    "    'min': 5000,\n",
    "    'max': 15000,\n",
    "    'gamma': 1.3\n",
    "}\n",
    "center = aoi.centroid(10).coordinates().reverse().getInfo()\n",
    "\n",
    "Map = geemap.Map(center=center, zoom=15)\n",
    "\n",
    "Map.addLayer(image_2013, vis_params, 'Landsat 2013-08-08')\n",
    "Map.addLayer(image_2024, vis_params, 'Landsat 2024-08-25')\n",
    "\n",
    "Map"
   ]
  },
  {
   "cell_type": "markdown",
   "id": "721a6015",
   "metadata": {},
   "source": [
    "## Task 4: Process Thermal Band (ST_B10)\n",
    "- Convert Band 10 to Brightness Temperature (Kelvin):\n",
    "  `TB = ST_B10 * 0.00341802 + 149.0`\n",
    "- Create a visualization of each image using the same color scale."
   ]
  },
  {
   "cell_type": "code",
   "execution_count": 6,
   "id": "e9d635e7",
   "metadata": {},
   "outputs": [
    {
     "data": {
      "text/html": [
       "\n",
       "            <style>\n",
       "                .geemap-dark {\n",
       "                    --jp-widgets-color: white;\n",
       "                    --jp-widgets-label-color: white;\n",
       "                    --jp-ui-font-color1: white;\n",
       "                    --jp-layout-color2: #454545;\n",
       "                    background-color: #383838;\n",
       "                }\n",
       "\n",
       "                .geemap-dark .jupyter-button {\n",
       "                    --jp-layout-color3: #383838;\n",
       "                }\n",
       "\n",
       "                .geemap-colab {\n",
       "                    background-color: var(--colab-primary-surface-color, white);\n",
       "                }\n",
       "\n",
       "                .geemap-colab .jupyter-button {\n",
       "                    --jp-layout-color3: var(--colab-primary-surface-color, white);\n",
       "                }\n",
       "            </style>\n",
       "            "
      ],
      "text/plain": [
       "<IPython.core.display.HTML object>"
      ]
     },
     "metadata": {},
     "output_type": "display_data"
    },
    {
     "data": {
      "application/vnd.jupyter.widget-view+json": {
       "model_id": "aa988f8f56e54000b5ad3ed6cfb4d854",
       "version_major": 2,
       "version_minor": 0
      },
      "text/plain": [
       "Map(center=[40.42425881714212, -3.6131250000012645], controls=(WidgetControl(options=['position', 'transparent…"
      ]
     },
     "execution_count": 6,
     "metadata": {},
     "output_type": "execute_result"
    }
   ],
   "source": [
    "bt_2013 = image_2013.select('ST_B10').multiply(0.00341802).add(149.0)\n",
    "bt_2024 = image_2024.select('ST_B10').multiply(0.00341802).add(149.0)\n",
    "\n",
    "\n",
    "thermal_vis = {\n",
    "    'min': 290,\n",
    "    'max': 320,\n",
    "    'palette': ['blue', 'cyan', 'green', 'yellow', 'red']\n",
    "}\n",
    "\n",
    "center = aoi.centroid(10).coordinates().reverse().getInfo()\n",
    "Map = geemap.Map(center=center, zoom=15)\n",
    "Map.addLayer(bt_2013, thermal_vis, '2013 Brightness Temp')\n",
    "Map.addLayer(bt_2024, thermal_vis, '2024 Brightness Temp')\n",
    "Map"
   ]
  },
  {
   "cell_type": "markdown",
   "id": "aa3b092a",
   "metadata": {},
   "source": [
    "## Task 5: Compare and Interpret\n",
    "- Compare the two maps.\n",
    "- Optionally calculate difference: `TB_2024 - TB_2013`\n",
    "- Discuss: did the surface temperature increase in the area?\n",
    "- Is there evidence of an Urban Heat Island effect related to development?"
   ]
  },
  {
   "cell_type": "code",
   "execution_count": 8,
   "id": "3f7b9fff",
   "metadata": {},
   "outputs": [
    {
     "data": {
      "text/html": [
       "\n",
       "            <style>\n",
       "                .geemap-dark {\n",
       "                    --jp-widgets-color: white;\n",
       "                    --jp-widgets-label-color: white;\n",
       "                    --jp-ui-font-color1: white;\n",
       "                    --jp-layout-color2: #454545;\n",
       "                    background-color: #383838;\n",
       "                }\n",
       "\n",
       "                .geemap-dark .jupyter-button {\n",
       "                    --jp-layout-color3: #383838;\n",
       "                }\n",
       "\n",
       "                .geemap-colab {\n",
       "                    background-color: var(--colab-primary-surface-color, white);\n",
       "                }\n",
       "\n",
       "                .geemap-colab .jupyter-button {\n",
       "                    --jp-layout-color3: var(--colab-primary-surface-color, white);\n",
       "                }\n",
       "            </style>\n",
       "            "
      ],
      "text/plain": [
       "<IPython.core.display.HTML object>"
      ]
     },
     "metadata": {},
     "output_type": "display_data"
    },
    {
     "name": "stdout",
     "output_type": "stream",
     "text": [
      "Average Brightness Temperature 2013 (K): {'ST_B10': 316.5839673578515}\n",
      "Average Brightness Temperature 2024 (K): {'ST_B10': 321.527638082652}\n",
      "Difference (K): {'ST_B10': 4.943670724801522}\n"
     ]
    },
    {
     "data": {
      "application/vnd.jupyter.widget-view+json": {
       "model_id": "ca08b5d8fe1c4fcab720919f890b3848",
       "version_major": 2,
       "version_minor": 0
      },
      "text/plain": [
       "Map(center=[40.42425881714212, -3.6131250000012645], controls=(WidgetControl(options=['position', 'transparent…"
      ]
     },
     "execution_count": 8,
     "metadata": {},
     "output_type": "execute_result"
    }
   ],
   "source": [
    "bt_diff = bt_2024.subtract(bt_2013)\n",
    "\n",
    "diff_vis = {\n",
    "    'min': -5,\n",
    "    'max': 5,\n",
    "    'palette': ['blue', 'white', 'red']  # Blue = cooler in 2024, Red = hotter in 2024\n",
    "}\n",
    "\n",
    "\n",
    "\n",
    "mean_2013 = bt_2013.reduceRegion(\n",
    "    reducer=ee.Reducer.mean(),\n",
    "    geometry=aoi,\n",
    "    scale=30,\n",
    "    maxPixels=1e9\n",
    ").getInfo()\n",
    "\n",
    "mean_2024 = bt_2024.reduceRegion(\n",
    "    reducer=ee.Reducer.mean(),\n",
    "    geometry=aoi,\n",
    "    scale=30,\n",
    "    maxPixels=1e9\n",
    ").getInfo()\n",
    "\n",
    "mean_diff = bt_diff.reduceRegion(\n",
    "    reducer=ee.Reducer.mean(),\n",
    "    geometry=aoi,\n",
    "    scale=30,\n",
    "    maxPixels=1e9\n",
    ").getInfo()\n",
    "\n",
    "print(\"Average Brightness Temperature 2013 (K):\", mean_2013)\n",
    "print(\"Average Brightness Temperature 2024 (K):\", mean_2024)\n",
    "print(\"Difference (K):\", mean_diff)\n",
    "\n",
    "\n",
    "center = aoi.centroid(10).coordinates().reverse().getInfo()\n",
    "Map = geemap.Map(center=center, zoom=15)\n",
    "\n",
    "\n",
    "Map.addLayer(bt_diff, diff_vis, 'Temperature Difference (2024 - 2013)')\n",
    "\n",
    "\n",
    "Map\n"
   ]
  },
  {
   "cell_type": "markdown",
   "id": "7c864945",
   "metadata": {},
   "source": [
    "The heat impact in Madrid is huge. This city is located i  the valley, really dry climate with extremely high temperatures. As one of the biggest cities in  Eu that is constantly developing we can see a big impact in the city itself and the cummune of Madrid."
   ]
  }
 ],
 "metadata": {
  "kernelspec": {
   "display_name": "eo_lab",
   "language": "python",
   "name": "python3"
  },
  "language_info": {
   "codemirror_mode": {
    "name": "ipython",
    "version": 3
   },
   "file_extension": ".py",
   "mimetype": "text/x-python",
   "name": "python",
   "nbconvert_exporter": "python",
   "pygments_lexer": "ipython3",
   "version": "3.9.21"
  }
 },
 "nbformat": 4,
 "nbformat_minor": 5
}
