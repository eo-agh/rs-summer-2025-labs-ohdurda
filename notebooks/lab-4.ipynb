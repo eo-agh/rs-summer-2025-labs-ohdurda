{
 "cells": [
  {
   "cell_type": "markdown",
   "id": "d3ac2b14",
   "metadata": {},
   "source": [
    "# Lab 4: Urban Heat Island Detection using Thermal Satellite Imagery"
   ]
  },
  {
   "cell_type": "markdown",
   "id": "94a259ca",
   "metadata": {},
   "source": [
    "## Goal\n",
    "In this exercise, you will:\n",
    "1. Select and compare two thermal satellite images from Kraków (or another city that has recently undergone intensive, thoughtless concrete development) – one from **2013** and one from **2024**.\n",
    "2. Each image must be acquired on a **hot summer day** (T > 27°C based on IMGW meteorological data).\n",
    "3. Images must have **low cloud cover** (< 20%).\n",
    "4. Visualize thermal data and analyze surface temperature differences (Urban Heat Island effect)."
   ]
  },
  {
   "cell_type": "markdown",
   "id": "cfa7c6b9",
   "metadata": {},
   "source": [
    "## Task 1: Area of Interest (AOI)\n",
    "- Define an AOI over the Reduta Street area in Kraków.\n",
    "- Use `ee.Geometry.Polygon` or `ee.Geometry.Rectangle`."
   ]
  },
  {
   "cell_type": "markdown",
   "id": "7817c68e",
   "metadata": {},
   "source": [
    "## Task 2: Download and Analyze IMGW Meteorological Data\n",
    "- Visit: [IMGW Archive](https://danepubliczne.imgw.pl/data/dane_pomiarowo_obserwacyjne/)\n",
    "- Navigate to:\n",
    "  - `dane_meteorologiczne/dobowe/synop/2013/`\n",
    "  - `dane_meteorologiczne/dobowe/synop/2024/`\n",
    "- Download `s_d_tmax.csv` for both years.\n",
    "- Filter the rows for **station ID 12566 (e.g. Kraków-Balice)**.\n",
    "- Identify days in **July or August** with **TMAX > 27°C**."
   ]
  },
  {
   "cell_type": "markdown",
   "id": "c7f064e5",
   "metadata": {},
   "source": [
    "## Task 3: Select Landsat 8 Images Matching These Dates\n",
    "- In Earth Engine, use `LANDSAT/LC08/C02/T1_L2` collection.\n",
    "- Apply filters:\n",
    "  - `.filterBounds(aoi)`\n",
    "  - `.filterDate()` for the matching day\n",
    "  - `.filterMetadata('CLOUD_COVER', 'less_than', 20)`\n",
    "- Try to find **one image from 2013** and **one image from 2024** that match your hot days list."
   ]
  },
  {
   "cell_type": "markdown",
   "id": "721a6015",
   "metadata": {},
   "source": [
    "## Task 4: Process Thermal Band (ST_B10)\n",
    "- Convert Band 10 to Brightness Temperature (Kelvin):\n",
    "  `TB = ST_B10 * 0.00341802 + 149.0`\n",
    "- Create a visualization of each image using the same color scale."
   ]
  },
  {
   "cell_type": "markdown",
   "id": "aa3b092a",
   "metadata": {},
   "source": [
    "## Task 5: Compare and Interpret\n",
    "- Compare the two maps.\n",
    "- Optionally calculate difference: `TB_2024 - TB_2013`\n",
    "- Discuss: did the surface temperature increase in the area?\n",
    "- Is there evidence of an Urban Heat Island effect related to development?"
   ]
  }
 ],
 "metadata": {
  "language_info": {
   "name": "python"
  }
 },
 "nbformat": 4,
 "nbformat_minor": 5
}
